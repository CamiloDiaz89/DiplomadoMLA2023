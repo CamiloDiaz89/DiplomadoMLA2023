{
 "cells": [
  {
   "cell_type": "markdown",
   "metadata": {},
   "source": [
    "## K-Means: Ejercicio 2\n",
    "\n",
    "Análisis de rasgos de personalidad en Twitter\n",
    "\n",
    "Descripción:\n",
    "\n",
    "- 140 famosos del mundo en diferentes áreas: deportes, cantantes, actores\n",
    "- Con base a la metodología de psicología \"The Big Five\" se obtienen las características de entrada\n",
    "\n",
    "Tarea:\n",
    "\n",
    "- Aplicar K-Means para agrupar los usuarios por similitud de personalidad\n",
    "\n",
    "#### **Diccionario de datos**\n",
    "\n",
    "| Variable   | Tipo              | Descripción                                     |\n",
    "|------------|-------------------|-------------------------------------------------|\n",
    "| usuario    | cadena            | el nombre en Twitter                            |\n",
    "| op         | numérico decimal  | Grado de apertura mental a nuevas experiencias  |\n",
    "| co         | numérico decimal  | Grado de orden, organización                    |\n",
    "| ex         | numérico decimal  | Grado de timidez, solitario o participación    |\n",
    "| ag         | numérico decimal  | Grado de empatía con los demás                  |\n",
    "| ne         | numérico decimal  | Grado de nerviosismo, seguridad, irritabilidad  |\n",
    "| Wordcount  | numérico decimal  | Cantidad promedio de palabras usadas en Tweets  |\n",
    "| Categoria  | numérico entero   | Actividad laboral del usuario                   |\n"
   ]
  },
  {
   "cell_type": "markdown",
   "metadata": {},
   "source": [
    "#### Librerías a utilizar"
   ]
  },
  {
   "cell_type": "code",
   "execution_count": 1,
   "metadata": {},
   "outputs": [],
   "source": [
    "import pandas as pd\n",
    "import numpy as np\n",
    "import matplotlib.pyplot as plt\n",
    "import seaborn as sb\n",
    "from sklearn.cluster import KMeans\n",
    "from sklearn.metrics import pairwise_distances_argmin_min\n",
    "\n",
    "%matplotlib inline\n",
    "plt.rcParams['figure.figsize'] = (16, 9)\n",
    "plt.style.use('ggplot')"
   ]
  },
  {
   "cell_type": "markdown",
   "metadata": {},
   "source": [
    "#### Cargar el archivo plano"
   ]
  },
  {
   "cell_type": "code",
   "execution_count": 2,
   "metadata": {},
   "outputs": [
    {
     "data": {
      "text/html": [
       "<div>\n",
       "<style scoped>\n",
       "    .dataframe tbody tr th:only-of-type {\n",
       "        vertical-align: middle;\n",
       "    }\n",
       "\n",
       "    .dataframe tbody tr th {\n",
       "        vertical-align: top;\n",
       "    }\n",
       "\n",
       "    .dataframe thead th {\n",
       "        text-align: right;\n",
       "    }\n",
       "</style>\n",
       "<table border=\"1\" class=\"dataframe\">\n",
       "  <thead>\n",
       "    <tr style=\"text-align: right;\">\n",
       "      <th></th>\n",
       "      <th>usuario</th>\n",
       "      <th>op</th>\n",
       "      <th>co</th>\n",
       "      <th>ex</th>\n",
       "      <th>ag</th>\n",
       "      <th>ne</th>\n",
       "      <th>wordcount</th>\n",
       "      <th>categoria</th>\n",
       "    </tr>\n",
       "  </thead>\n",
       "  <tbody>\n",
       "    <tr>\n",
       "      <th>0</th>\n",
       "      <td>3gerardpique</td>\n",
       "      <td>34.297953</td>\n",
       "      <td>28.148819</td>\n",
       "      <td>41.948819</td>\n",
       "      <td>29.370315</td>\n",
       "      <td>9.841575</td>\n",
       "      <td>37.0945</td>\n",
       "      <td>7</td>\n",
       "    </tr>\n",
       "    <tr>\n",
       "      <th>1</th>\n",
       "      <td>aguerosergiokun</td>\n",
       "      <td>44.986842</td>\n",
       "      <td>20.525865</td>\n",
       "      <td>37.938947</td>\n",
       "      <td>24.279098</td>\n",
       "      <td>10.362406</td>\n",
       "      <td>78.7970</td>\n",
       "      <td>7</td>\n",
       "    </tr>\n",
       "    <tr>\n",
       "      <th>2</th>\n",
       "      <td>albertochicote</td>\n",
       "      <td>41.733854</td>\n",
       "      <td>13.745417</td>\n",
       "      <td>38.999896</td>\n",
       "      <td>34.645521</td>\n",
       "      <td>8.836979</td>\n",
       "      <td>49.2604</td>\n",
       "      <td>4</td>\n",
       "    </tr>\n",
       "    <tr>\n",
       "      <th>3</th>\n",
       "      <td>AlejandroSanz</td>\n",
       "      <td>40.377154</td>\n",
       "      <td>15.377462</td>\n",
       "      <td>52.337538</td>\n",
       "      <td>31.082154</td>\n",
       "      <td>5.032231</td>\n",
       "      <td>80.4538</td>\n",
       "      <td>2</td>\n",
       "    </tr>\n",
       "    <tr>\n",
       "      <th>4</th>\n",
       "      <td>alfredocasero1</td>\n",
       "      <td>36.664677</td>\n",
       "      <td>19.642258</td>\n",
       "      <td>48.530806</td>\n",
       "      <td>31.138871</td>\n",
       "      <td>7.305968</td>\n",
       "      <td>47.0645</td>\n",
       "      <td>4</td>\n",
       "    </tr>\n",
       "  </tbody>\n",
       "</table>\n",
       "</div>"
      ],
      "text/plain": [
       "           usuario         op         co         ex         ag         ne  \\\n",
       "0     3gerardpique  34.297953  28.148819  41.948819  29.370315   9.841575   \n",
       "1  aguerosergiokun  44.986842  20.525865  37.938947  24.279098  10.362406   \n",
       "2   albertochicote  41.733854  13.745417  38.999896  34.645521   8.836979   \n",
       "3    AlejandroSanz  40.377154  15.377462  52.337538  31.082154   5.032231   \n",
       "4   alfredocasero1  36.664677  19.642258  48.530806  31.138871   7.305968   \n",
       "\n",
       "   wordcount  categoria  \n",
       "0    37.0945          7  \n",
       "1    78.7970          7  \n",
       "2    49.2604          4  \n",
       "3    80.4538          2  \n",
       "4    47.0645          4  "
      ]
     },
     "execution_count": 2,
     "metadata": {},
     "output_type": "execute_result"
    }
   ],
   "source": [
    "# Se cargan los datos\n",
    "dataframe = pd.read_csv(\"data/analisis.csv\")\n",
    "dataframe.head()"
   ]
  },
  {
   "cell_type": "code",
   "execution_count": 3,
   "metadata": {},
   "outputs": [
    {
     "data": {
      "text/html": [
       "<div>\n",
       "<style scoped>\n",
       "    .dataframe tbody tr th:only-of-type {\n",
       "        vertical-align: middle;\n",
       "    }\n",
       "\n",
       "    .dataframe tbody tr th {\n",
       "        vertical-align: top;\n",
       "    }\n",
       "\n",
       "    .dataframe thead th {\n",
       "        text-align: right;\n",
       "    }\n",
       "</style>\n",
       "<table border=\"1\" class=\"dataframe\">\n",
       "  <thead>\n",
       "    <tr style=\"text-align: right;\">\n",
       "      <th></th>\n",
       "      <th>op</th>\n",
       "      <th>co</th>\n",
       "      <th>ex</th>\n",
       "      <th>ag</th>\n",
       "      <th>ne</th>\n",
       "      <th>wordcount</th>\n",
       "      <th>categoria</th>\n",
       "    </tr>\n",
       "  </thead>\n",
       "  <tbody>\n",
       "    <tr>\n",
       "      <th>count</th>\n",
       "      <td>140.000000</td>\n",
       "      <td>140.000000</td>\n",
       "      <td>140.000000</td>\n",
       "      <td>140.000000</td>\n",
       "      <td>140.000000</td>\n",
       "      <td>140.000000</td>\n",
       "      <td>140.000000</td>\n",
       "    </tr>\n",
       "    <tr>\n",
       "      <th>mean</th>\n",
       "      <td>44.414591</td>\n",
       "      <td>22.977135</td>\n",
       "      <td>40.764428</td>\n",
       "      <td>22.918528</td>\n",
       "      <td>8.000098</td>\n",
       "      <td>98.715484</td>\n",
       "      <td>4.050000</td>\n",
       "    </tr>\n",
       "    <tr>\n",
       "      <th>std</th>\n",
       "      <td>8.425723</td>\n",
       "      <td>5.816851</td>\n",
       "      <td>7.185246</td>\n",
       "      <td>7.657122</td>\n",
       "      <td>3.039248</td>\n",
       "      <td>44.714071</td>\n",
       "      <td>2.658839</td>\n",
       "    </tr>\n",
       "    <tr>\n",
       "      <th>min</th>\n",
       "      <td>30.020465</td>\n",
       "      <td>7.852756</td>\n",
       "      <td>18.693542</td>\n",
       "      <td>9.305985</td>\n",
       "      <td>1.030213</td>\n",
       "      <td>5.020800</td>\n",
       "      <td>1.000000</td>\n",
       "    </tr>\n",
       "    <tr>\n",
       "      <th>25%</th>\n",
       "      <td>38.206484</td>\n",
       "      <td>19.740299</td>\n",
       "      <td>36.095722</td>\n",
       "      <td>17.050993</td>\n",
       "      <td>6.086144</td>\n",
       "      <td>66.218475</td>\n",
       "      <td>2.000000</td>\n",
       "    </tr>\n",
       "    <tr>\n",
       "      <th>50%</th>\n",
       "      <td>44.507091</td>\n",
       "      <td>22.466718</td>\n",
       "      <td>41.457492</td>\n",
       "      <td>21.384554</td>\n",
       "      <td>7.839722</td>\n",
       "      <td>94.711400</td>\n",
       "      <td>3.500000</td>\n",
       "    </tr>\n",
       "    <tr>\n",
       "      <th>75%</th>\n",
       "      <td>49.365923</td>\n",
       "      <td>26.091606</td>\n",
       "      <td>45.197769</td>\n",
       "      <td>28.678866</td>\n",
       "      <td>9.758189</td>\n",
       "      <td>119.707925</td>\n",
       "      <td>7.000000</td>\n",
       "    </tr>\n",
       "    <tr>\n",
       "      <th>max</th>\n",
       "      <td>71.696129</td>\n",
       "      <td>49.637863</td>\n",
       "      <td>59.824844</td>\n",
       "      <td>40.583162</td>\n",
       "      <td>23.978462</td>\n",
       "      <td>217.183200</td>\n",
       "      <td>9.000000</td>\n",
       "    </tr>\n",
       "  </tbody>\n",
       "</table>\n",
       "</div>"
      ],
      "text/plain": [
       "               op          co          ex          ag          ne   wordcount  \\\n",
       "count  140.000000  140.000000  140.000000  140.000000  140.000000  140.000000   \n",
       "mean    44.414591   22.977135   40.764428   22.918528    8.000098   98.715484   \n",
       "std      8.425723    5.816851    7.185246    7.657122    3.039248   44.714071   \n",
       "min     30.020465    7.852756   18.693542    9.305985    1.030213    5.020800   \n",
       "25%     38.206484   19.740299   36.095722   17.050993    6.086144   66.218475   \n",
       "50%     44.507091   22.466718   41.457492   21.384554    7.839722   94.711400   \n",
       "75%     49.365923   26.091606   45.197769   28.678866    9.758189  119.707925   \n",
       "max     71.696129   49.637863   59.824844   40.583162   23.978462  217.183200   \n",
       "\n",
       "        categoria  \n",
       "count  140.000000  \n",
       "mean     4.050000  \n",
       "std      2.658839  \n",
       "min      1.000000  \n",
       "25%      2.000000  \n",
       "50%      3.500000  \n",
       "75%      7.000000  \n",
       "max      9.000000  "
      ]
     },
     "execution_count": 3,
     "metadata": {},
     "output_type": "execute_result"
    }
   ],
   "source": [
    "# Se muestran las estadísticas\n",
    "dataframe.describe()"
   ]
  },
  {
   "cell_type": "code",
   "execution_count": 4,
   "metadata": {},
   "outputs": [
    {
     "data": {
      "text/plain": [
       "categoria\n",
       "1    27\n",
       "2    34\n",
       "3     9\n",
       "4    19\n",
       "5     4\n",
       "6     8\n",
       "7    17\n",
       "8    16\n",
       "9     6\n",
       "dtype: int64"
      ]
     },
     "execution_count": 4,
     "metadata": {},
     "output_type": "execute_result"
    }
   ],
   "source": [
    "# Se muestran los registros para cada categoría\n",
    "dataframe.groupby('categoria').size()"
   ]
  },
  {
   "cell_type": "markdown",
   "metadata": {},
   "source": [
    "#### Visualización de Datos"
   ]
  },
  {
   "cell_type": "code",
   "execution_count": 5,
   "metadata": {},
   "outputs": [
    {
     "name": "stderr",
     "output_type": "stream",
     "text": [
      "/var/folders/0m/xmkg_d4s05j9zcbpwwncd19w0000gn/T/ipykernel_23163/4258145293.py:2: FutureWarning: In a future version of pandas all arguments of DataFrame.drop except for the argument 'labels' will be keyword-only.\n",
      "  dataframe.drop(['categoria'],1).hist()\n"
     ]
    },
    {
     "data": {
      "image/png": "[encoded data removed]",
      "text/plain": [
       "<Figure size 1152x648 with 6 Axes>"
      ]
     },
     "metadata": {},
     "output_type": "display_data"
    }
   ],
   "source": [
    "# Se genera un histograma para ver la distribución de los datos\n",
    "dataframe.drop(['categoria'],1).hist()\n",
    "plt.show()"
   ]
  },
  {
   "cell_type": "markdown",
   "metadata": {},
   "source": [
    "#### Definimos las entradas"
   ]
  },
  {
   "cell_type": "code",
   "execution_count": 6,
   "metadata": {},
   "outputs": [],
   "source": [
    "X = np.array(dataframe[[\"op\",\"ex\",\"ag\"]])\n",
    "y = np.array(dataframe['categoria'])"
   ]
  },
  {
   "cell_type": "markdown",
   "metadata": {},
   "source": [
    "#### Obtenemos el valor de K"
   ]
  },
  {
   "cell_type": "code",
   "execution_count": 7,
   "metadata": {},
   "outputs": [
    {
     "data": {
      "image/png": "[encoded data removed]",
      "text/plain": [
       "<Figure size 1152x648 with 1 Axes>"
      ]
     },
     "metadata": {},
     "output_type": "display_data"
    }
   ],
   "source": [
    "Nc = range(1, 20)\n",
    "kmeans = [KMeans(n_clusters=i) for i in Nc]\n",
    "kmeans\n",
    "score = [kmeans[i].fit(X).score(X) for i in range(len(kmeans))]\n",
    "score\n",
    "plt.plot(Nc,score)\n",
    "plt.xlabel('Number of Clusters')\n",
    "plt.ylabel('Score')\n",
    "plt.title('Elbow Curve')\n",
    "plt.show()"
   ]
  },
  {
   "cell_type": "markdown",
   "metadata": {},
   "source": [
    "#### K-Means"
   ]
  },
  {
   "cell_type": "code",
   "execution_count": 8,
   "metadata": {},
   "outputs": [
    {
     "name": "stdout",
     "output_type": "stream",
     "text": [
      "[[35.39154169 47.17372597 34.50044186]\n",
      " [58.70462307 30.53566167 15.72207033]\n",
      " [42.66891482 33.31008136 21.11530482]\n",
      " [50.15530371 40.81295548 17.39048745]\n",
      " [39.55874337 44.81190669 24.291027  ]]\n"
     ]
    }
   ],
   "source": [
    "# Se define el modelo\n",
    "kmeans = KMeans(n_clusters=5).fit(X)\n",
    "# Se idnetifican los centroides\n",
    "centroids = kmeans.cluster_centers_\n",
    "print(centroids)"
   ]
  },
  {
   "cell_type": "markdown",
   "metadata": {},
   "source": [
    "#### Grupos"
   ]
  },
  {
   "cell_type": "code",
   "execution_count": 9,
   "metadata": {},
   "outputs": [
    {
     "data": {
      "image/png": "[encoded data removed]",
      "text/plain": [
       "<Figure size 1152x648 with 1 Axes>"
      ]
     },
     "metadata": {},
     "output_type": "display_data"
    }
   ],
   "source": [
    "# Se crean los grupos\n",
    "f1 = dataframe['op'].values\n",
    "f2 = dataframe['ex'].values\n",
    "labels = kmeans.predict(X)\n",
    "\n",
    "C = kmeans.cluster_centers_\n",
    "colores=['red','green','blue','cyan','yellow']\n",
    "asignar=[]\n",
    "for row in labels:\n",
    "    asignar.append(colores[row])\n",
    "\n",
    "plt.scatter(f1, f2, c=asignar, s=70)\n",
    "plt.scatter(C[:, 0], C[:, 1], marker='*', c=colores, s=1000)\n",
    "plt.show()"
   ]
  },
  {
   "cell_type": "markdown",
   "metadata": {},
   "source": [
    "#### Observar clustering por grupos"
   ]
  },
  {
   "cell_type": "code",
   "execution_count": 10,
   "metadata": {},
   "outputs": [
    {
     "data": {
      "text/html": [
       "<div>\n",
       "<style scoped>\n",
       "    .dataframe tbody tr th:only-of-type {\n",
       "        vertical-align: middle;\n",
       "    }\n",
       "\n",
       "    .dataframe tbody tr th {\n",
       "        vertical-align: top;\n",
       "    }\n",
       "\n",
       "    .dataframe thead th {\n",
       "        text-align: right;\n",
       "    }\n",
       "</style>\n",
       "<table border=\"1\" class=\"dataframe\">\n",
       "  <thead>\n",
       "    <tr style=\"text-align: right;\">\n",
       "      <th></th>\n",
       "      <th>color</th>\n",
       "      <th>cantidad</th>\n",
       "    </tr>\n",
       "  </thead>\n",
       "  <tbody>\n",
       "    <tr>\n",
       "      <th>0</th>\n",
       "      <td>red</td>\n",
       "      <td>29</td>\n",
       "    </tr>\n",
       "    <tr>\n",
       "      <th>1</th>\n",
       "      <td>green</td>\n",
       "      <td>15</td>\n",
       "    </tr>\n",
       "    <tr>\n",
       "      <th>2</th>\n",
       "      <td>blue</td>\n",
       "      <td>22</td>\n",
       "    </tr>\n",
       "    <tr>\n",
       "      <th>3</th>\n",
       "      <td>cyan</td>\n",
       "      <td>42</td>\n",
       "    </tr>\n",
       "    <tr>\n",
       "      <th>4</th>\n",
       "      <td>yellow</td>\n",
       "      <td>32</td>\n",
       "    </tr>\n",
       "  </tbody>\n",
       "</table>\n",
       "</div>"
      ],
      "text/plain": [
       "    color  cantidad\n",
       "0     red        29\n",
       "1   green        15\n",
       "2    blue        22\n",
       "3    cyan        42\n",
       "4  yellow        32"
      ]
     },
     "execution_count": 10,
     "metadata": {},
     "output_type": "execute_result"
    }
   ],
   "source": [
    "# Se observa la cantidad de elementos por cluster\n",
    "copy = pd.DataFrame()\n",
    "copy['usuario']=dataframe['usuario'].values\n",
    "copy['categoria']=dataframe['categoria'].values\n",
    "copy['label'] = labels\n",
    "cantidadGrupo = pd.DataFrame()\n",
    "cantidadGrupo['color']=colores\n",
    "cantidadGrupo['cantidad']=copy.groupby('label').size()\n",
    "cantidadGrupo"
   ]
  },
  {
   "cell_type": "markdown",
   "metadata": {},
   "source": [
    "#### Clasificar una nuevo cliente"
   ]
  },
  {
   "cell_type": "code",
   "execution_count": 11,
   "metadata": {},
   "outputs": [
    {
     "name": "stdout",
     "output_type": "stream",
     "text": [
      "[4]\n"
     ]
    }
   ],
   "source": [
    "# op = 45.92\n",
    "# ex = 57.74\n",
    "# ag = 15.66\n",
    "X_new = np.array([[45.92,57.74,15.66]]) \n",
    "\n",
    "# Se genera la predicción\n",
    "new_labels = kmeans.predict(X_new)\n",
    "\n",
    "# El cluster al que pertenece el usuario\n",
    "print(new_labels)"
   ]
  }
 ],
 "metadata": {
  "kernelspec": {
   "display_name": "Python 3.9.13 64-bit",
   "language": "python",
   "name": "python3"
  },
  "language_info": {
   "codemirror_mode": {
    "name": "ipython",
    "version": 3
   },
   "file_extension": ".py",
   "mimetype": "text/x-python",
   "name": "python",
   "nbconvert_exporter": "python",
   "pygments_lexer": "ipython3",
   "version": "3.9.13"
  },
  "orig_nbformat": 4,
  "vscode": {
   "interpreter": {
    "hash": "aee8b7b246df8f9039afb4144a1f6fd8d2ca17a180786b69acc140d282b71a49"
   }
  }
 },
 "nbformat": 4,
 "nbformat_minor": 2
}
