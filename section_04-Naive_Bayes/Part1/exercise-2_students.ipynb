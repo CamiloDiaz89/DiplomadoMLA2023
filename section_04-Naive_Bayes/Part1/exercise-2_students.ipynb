{
 "cells": [
  {
   "cell_type": "markdown",
   "metadata": {},
   "source": [
    "## Clasificador Naive Bayes (multiclase)"
   ]
  },
  {
   "cell_type": "markdown",
   "metadata": {},
   "source": [
    "##### **Ejercicio: Vinos de Italia** \n",
    "\n",
    "En este ejercicio se utilizará el conjunto de datos de Vinos de Italia (disponible en scikit-learn), para generar clasificación multicalse. \n",
    "\n",
    "El conjunto de datos consta de 13 características y el tipo de cultivo de vino. Estos datos tienen tres tipos de vino Class_0, Class_1 y Class_2. Aquí puedes construir un modelo para clasificar el tipo de vino."
   ]
  },
  {
   "cell_type": "markdown",
   "metadata": {},
   "source": [
    "#### Importamos las librerías a utilizar"
   ]
  },
  {
   "cell_type": "code",
   "execution_count": 1,
   "metadata": {},
   "outputs": [],
   "source": [
    "# Libreria para cálculos numéricos\n",
    "import numpy as np\n",
    "# Libreria para manipulación y análisis de datos\n",
    "import pandas as pd\n",
    "# Librería para las gráficas\n",
    "import matplotlib.pyplot as plt \n",
    "\n",
    "# Librería para importar dataset de sklearn\n",
    "from sklearn import datasets\n",
    "\n",
    "##### INSERTE SU CÓDIGO AQUÍ #####\n",
    "# Libreria para el preprocesamiento de los datos\n",
    "\n",
    "# Libreria para el modelo de clasificación Naive Bayes\n",
    "\n",
    "# Librería para separar los datos de entrenamiento y de pruebas\n",
    "\n",
    "# Libreria para el Accuracy del modelo\n",
    "\n",
    "##### FIN CÓDIGO INSERTADO #####"
   ]
  },
  {
   "cell_type": "markdown",
   "metadata": {},
   "source": [
    "#### Cargamos los datos"
   ]
  },
  {
   "cell_type": "code",
   "execution_count": 2,
   "metadata": {},
   "outputs": [
    {
     "name": "stdout",
     "output_type": "stream",
     "text": [
      "Caracteristicas: ['alcohol', 'malic_acid', 'ash', 'alcalinity_of_ash', 'magnesium', 'total_phenols', 'flavanoids', 'nonflavanoid_phenols', 'proanthocyanins', 'color_intensity', 'hue', 'od280/od315_of_diluted_wines', 'proline']\n",
      "-------------------------------------\n",
      "Clase:  ['class_0' 'class_1' 'class_2']\n"
     ]
    }
   ],
   "source": [
    "# Se carga el dataset a wine\n",
    "wine = datasets.load_wine()\n",
    "\n",
    "# Se imprime el nombre de las 13 características\n",
    "print(\"Caracteristicas:\", wine.feature_names)\n",
    "print(\"-------------------------------------\")\n",
    "# Se imprime el nombre de las variables objetivo\n",
    "print(\"Clase: \", wine.target_names )"
   ]
  },
  {
   "cell_type": "code",
   "execution_count": 3,
   "metadata": {},
   "outputs": [
    {
     "name": "stdout",
     "output_type": "stream",
     "text": [
      "[[1.423e+01 1.710e+00 2.430e+00 1.560e+01 1.270e+02 2.800e+00 3.060e+00\n",
      "  2.800e-01 2.290e+00 5.640e+00 1.040e+00 3.920e+00 1.065e+03]\n",
      " [1.320e+01 1.780e+00 2.140e+00 1.120e+01 1.000e+02 2.650e+00 2.760e+00\n",
      "  2.600e-01 1.280e+00 4.380e+00 1.050e+00 3.400e+00 1.050e+03]\n",
      " [1.316e+01 2.360e+00 2.670e+00 1.860e+01 1.010e+02 2.800e+00 3.240e+00\n",
      "  3.000e-01 2.810e+00 5.680e+00 1.030e+00 3.170e+00 1.185e+03]\n",
      " [1.437e+01 1.950e+00 2.500e+00 1.680e+01 1.130e+02 3.850e+00 3.490e+00\n",
      "  2.400e-01 2.180e+00 7.800e+00 8.600e-01 3.450e+00 1.480e+03]\n",
      " [1.324e+01 2.590e+00 2.870e+00 2.100e+01 1.180e+02 2.800e+00 2.690e+00\n",
      "  3.900e-01 1.820e+00 4.320e+00 1.040e+00 2.930e+00 7.350e+02]]\n",
      "(178, 13)\n"
     ]
    }
   ],
   "source": [
    "# Se muestran los primeros 5 registros del dataset\n",
    "print(wine.data[0:5])\n",
    "\n",
    "# Se observa la cantidad de registros del dataset\n",
    "print(wine.data.shape)"
   ]
  },
  {
   "cell_type": "markdown",
   "metadata": {},
   "source": [
    "#### Aplicamos la separación del data set para pruebas y entrenamiento"
   ]
  },
  {
   "cell_type": "code",
   "execution_count": 22,
   "metadata": {},
   "outputs": [],
   "source": [
    "# Se definen las características del modelo\n",
    "X = wine.data\n",
    "# Se define la etiqueta del modelo\n",
    "y = wine.target\n",
    "\n",
    "##### INSERTE SU CÓDIGO AQUÍ #####\n",
    "# Utilice train_test_split (70% entrenamiento y 30% pruebas)\n",
    "\n",
    "##### FIN CÓDIGO INSERTADO #####"
   ]
  },
  {
   "cell_type": "markdown",
   "metadata": {},
   "source": [
    "#### Se entrena el modelo y se imprime el Accuracy"
   ]
  },
  {
   "cell_type": "code",
   "execution_count": 24,
   "metadata": {},
   "outputs": [
    {
     "name": "stdout",
     "output_type": "stream",
     "text": [
      "Accuracy:  0.98\n"
     ]
    }
   ],
   "source": [
    "##### INSERTE SU CÓDIGO AQUÍ #####\n",
    "\n",
    "# Se crea el clasificador de tipo Naive Bayes\n",
    "\n",
    "# Se entrena el modelo\n",
    "\n",
    "# Se genera la predicción \n",
    "\n",
    "# Se genera el reporte de clasificación (Accuracy)\n",
    "\n",
    "##### FIN CÓDIGO INSERTADO #####"
   ]
  }
 ],
 "metadata": {
  "kernelspec": {
   "display_name": "Python 3.9.13 64-bit",
   "language": "python",
   "name": "python3"
  },
  "language_info": {
   "codemirror_mode": {
    "name": "ipython",
    "version": 3
   },
   "file_extension": ".py",
   "mimetype": "text/x-python",
   "name": "python",
   "nbconvert_exporter": "python",
   "pygments_lexer": "ipython3",
   "version": "3.9.13"
  },
  "orig_nbformat": 4,
  "vscode": {
   "interpreter": {
    "hash": "aee8b7b246df8f9039afb4144a1f6fd8d2ca17a180786b69acc140d282b71a49"
   }
  }
 },
 "nbformat": 4,
 "nbformat_minor": 2
}
