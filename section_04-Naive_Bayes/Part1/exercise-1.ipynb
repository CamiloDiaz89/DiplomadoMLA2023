{
 "cells": [
  {
   "cell_type": "markdown",
   "metadata": {},
   "source": [
    "## Clasificador Naive Bayes"
   ]
  },
  {
   "cell_type": "markdown",
   "metadata": {},
   "source": [
    "##### **Ejemplo 2 : Jugar futbol según el clima** \n",
    "\n",
    "Suponga que desea calcular la probabilidad de jugar futbol cuando el clima está nublado y la remperatura es templada.\n",
    "\n",
    "##### **Solución: Primer enfoque (una sola característica)**\n",
    "\n",
    "El clasificador Naive Bayes calcula la probabilidad del evento con los siguientes pasos:\n",
    "\n",
    "- Paso 1: Calcular la probabilidad previa para las etiquetas de clase dadas.\n",
    "- Paso 2: Encuentre la probabilidad de similitud con cada atributo para cada clase.\n",
    "- Paso 3: Coloque estos valores en la fórmula de Bayes y calcule la probabilidad posterior.\n",
    "- Paso 4: Vea qué clase tiene la probabilidad más alta, dado que la entrada\n",
    "- Pertenece a la clase de probabilidad más alta.\n",
    "\n",
    "#### **Diccionario de datos**\n",
    "\n",
    "| Variable    | Tipo    | Descripción                                     |\n",
    "|-------------|---------|-------------------------------------------------|\n",
    "| clima       | cadena  | describe el clima: soleado, nublado, lluvioso   |\n",
    "| temperatura | cadena  | indica la temperatura: caliente, templado, frio |\n",
    "| jugar       | cadena  | indica si se puede jugar o no                   |\n",
    "\n",
    "- Característica: clima, temperatura\n",
    "- Variable objetivo / clase: jugar (No-0 Si-1)"
   ]
  },
  {
   "cell_type": "markdown",
   "metadata": {},
   "source": [
    "#### Importamos las librerías a utilizar"
   ]
  },
  {
   "cell_type": "code",
   "execution_count": 1,
   "metadata": {},
   "outputs": [],
   "source": [
    "# Libreria para cálculos numéricos\n",
    "import numpy as np\n",
    "# Libreria para manipulación y análisis de datos\n",
    "import pandas as pd\n",
    "# Librería para las gráficas\n",
    "import matplotlib.pyplot as plt \n",
    "\n",
    "# Libreria para el preprocesamiento de los datos\n",
    "from sklearn import preprocessing\n",
    "# Libreria para el modelo de clasificación Naive Bayes\n",
    "from sklearn.naive_bayes import GaussianNB\n",
    "# Librería para separar los datos de entrenamiento y de pruebas\n",
    "from sklearn.model_selection import train_test_split\n",
    "# Libreria para el Accuracy del modelo\n",
    "from sklearn.metrics import accuracy_score"
   ]
  },
  {
   "cell_type": "markdown",
   "metadata": {},
   "source": [
    "#### Cargamos los datos"
   ]
  },
  {
   "cell_type": "code",
   "execution_count": 2,
   "metadata": {},
   "outputs": [
    {
     "data": {
      "text/html": [
       "<div>\n",
       "<style scoped>\n",
       "    .dataframe tbody tr th:only-of-type {\n",
       "        vertical-align: middle;\n",
       "    }\n",
       "\n",
       "    .dataframe tbody tr th {\n",
       "        vertical-align: top;\n",
       "    }\n",
       "\n",
       "    .dataframe thead th {\n",
       "        text-align: right;\n",
       "    }\n",
       "</style>\n",
       "<table border=\"1\" class=\"dataframe\">\n",
       "  <thead>\n",
       "    <tr style=\"text-align: right;\">\n",
       "      <th></th>\n",
       "      <th>clima</th>\n",
       "      <th>temperatura</th>\n",
       "      <th>jugar</th>\n",
       "    </tr>\n",
       "  </thead>\n",
       "  <tbody>\n",
       "    <tr>\n",
       "      <th>0</th>\n",
       "      <td>soleado</td>\n",
       "      <td>caliente</td>\n",
       "      <td>no</td>\n",
       "    </tr>\n",
       "    <tr>\n",
       "      <th>1</th>\n",
       "      <td>soleado</td>\n",
       "      <td>caliente</td>\n",
       "      <td>si</td>\n",
       "    </tr>\n",
       "    <tr>\n",
       "      <th>2</th>\n",
       "      <td>nublado</td>\n",
       "      <td>caliente</td>\n",
       "      <td>si</td>\n",
       "    </tr>\n",
       "    <tr>\n",
       "      <th>3</th>\n",
       "      <td>lluvioso</td>\n",
       "      <td>templado</td>\n",
       "      <td>si</td>\n",
       "    </tr>\n",
       "    <tr>\n",
       "      <th>4</th>\n",
       "      <td>luvioso</td>\n",
       "      <td>frio</td>\n",
       "      <td>no</td>\n",
       "    </tr>\n",
       "  </tbody>\n",
       "</table>\n",
       "</div>"
      ],
      "text/plain": [
       "      clima temperatura jugar\n",
       "0   soleado    caliente    no\n",
       "1   soleado    caliente    si\n",
       "2   nublado    caliente    si\n",
       "3  lluvioso    templado    si\n",
       "4   luvioso        frio    no"
      ]
     },
     "execution_count": 2,
     "metadata": {},
     "output_type": "execute_result"
    }
   ],
   "source": [
    "# Se lee el archivo plano de los datos y se pasa a un DataFrame\n",
    "data = pd.read_csv(\"data/exercise1.csv\", sep=\";\")\n",
    "\n",
    "# Se muestra la cabecera del DataFrame\n",
    "data.head()"
   ]
  },
  {
   "cell_type": "markdown",
   "metadata": {},
   "source": [
    "#### Preprocesamiento"
   ]
  },
  {
   "cell_type": "code",
   "execution_count": 3,
   "metadata": {},
   "outputs": [
    {
     "data": {
      "text/html": [
       "<div>\n",
       "<style scoped>\n",
       "    .dataframe tbody tr th:only-of-type {\n",
       "        vertical-align: middle;\n",
       "    }\n",
       "\n",
       "    .dataframe tbody tr th {\n",
       "        vertical-align: top;\n",
       "    }\n",
       "\n",
       "    .dataframe thead th {\n",
       "        text-align: right;\n",
       "    }\n",
       "</style>\n",
       "<table border=\"1\" class=\"dataframe\">\n",
       "  <thead>\n",
       "    <tr style=\"text-align: right;\">\n",
       "      <th></th>\n",
       "      <th>clima</th>\n",
       "      <th>temperatura</th>\n",
       "      <th>jugar</th>\n",
       "      <th>wheather</th>\n",
       "      <th>temp</th>\n",
       "      <th>play</th>\n",
       "    </tr>\n",
       "  </thead>\n",
       "  <tbody>\n",
       "    <tr>\n",
       "      <th>0</th>\n",
       "      <td>soleado</td>\n",
       "      <td>caliente</td>\n",
       "      <td>no</td>\n",
       "      <td>3</td>\n",
       "      <td>0</td>\n",
       "      <td>0</td>\n",
       "    </tr>\n",
       "    <tr>\n",
       "      <th>1</th>\n",
       "      <td>soleado</td>\n",
       "      <td>caliente</td>\n",
       "      <td>si</td>\n",
       "      <td>3</td>\n",
       "      <td>0</td>\n",
       "      <td>1</td>\n",
       "    </tr>\n",
       "    <tr>\n",
       "      <th>2</th>\n",
       "      <td>nublado</td>\n",
       "      <td>caliente</td>\n",
       "      <td>si</td>\n",
       "      <td>2</td>\n",
       "      <td>0</td>\n",
       "      <td>1</td>\n",
       "    </tr>\n",
       "    <tr>\n",
       "      <th>3</th>\n",
       "      <td>lluvioso</td>\n",
       "      <td>templado</td>\n",
       "      <td>si</td>\n",
       "      <td>0</td>\n",
       "      <td>2</td>\n",
       "      <td>1</td>\n",
       "    </tr>\n",
       "    <tr>\n",
       "      <th>4</th>\n",
       "      <td>luvioso</td>\n",
       "      <td>frio</td>\n",
       "      <td>no</td>\n",
       "      <td>1</td>\n",
       "      <td>1</td>\n",
       "      <td>0</td>\n",
       "    </tr>\n",
       "    <tr>\n",
       "      <th>5</th>\n",
       "      <td>lluvioso</td>\n",
       "      <td>frio</td>\n",
       "      <td>no</td>\n",
       "      <td>0</td>\n",
       "      <td>1</td>\n",
       "      <td>0</td>\n",
       "    </tr>\n",
       "    <tr>\n",
       "      <th>6</th>\n",
       "      <td>nublado</td>\n",
       "      <td>frio</td>\n",
       "      <td>si</td>\n",
       "      <td>2</td>\n",
       "      <td>1</td>\n",
       "      <td>1</td>\n",
       "    </tr>\n",
       "    <tr>\n",
       "      <th>7</th>\n",
       "      <td>soleado</td>\n",
       "      <td>templado</td>\n",
       "      <td>no</td>\n",
       "      <td>3</td>\n",
       "      <td>2</td>\n",
       "      <td>0</td>\n",
       "    </tr>\n",
       "    <tr>\n",
       "      <th>8</th>\n",
       "      <td>soleado</td>\n",
       "      <td>frio</td>\n",
       "      <td>si</td>\n",
       "      <td>3</td>\n",
       "      <td>1</td>\n",
       "      <td>1</td>\n",
       "    </tr>\n",
       "    <tr>\n",
       "      <th>9</th>\n",
       "      <td>lluvioso</td>\n",
       "      <td>templado</td>\n",
       "      <td>si</td>\n",
       "      <td>0</td>\n",
       "      <td>2</td>\n",
       "      <td>1</td>\n",
       "    </tr>\n",
       "    <tr>\n",
       "      <th>10</th>\n",
       "      <td>soleado</td>\n",
       "      <td>templado</td>\n",
       "      <td>si</td>\n",
       "      <td>3</td>\n",
       "      <td>2</td>\n",
       "      <td>1</td>\n",
       "    </tr>\n",
       "    <tr>\n",
       "      <th>11</th>\n",
       "      <td>nublado</td>\n",
       "      <td>templado</td>\n",
       "      <td>si</td>\n",
       "      <td>2</td>\n",
       "      <td>2</td>\n",
       "      <td>1</td>\n",
       "    </tr>\n",
       "    <tr>\n",
       "      <th>12</th>\n",
       "      <td>nublado</td>\n",
       "      <td>caliente</td>\n",
       "      <td>si</td>\n",
       "      <td>2</td>\n",
       "      <td>0</td>\n",
       "      <td>1</td>\n",
       "    </tr>\n",
       "    <tr>\n",
       "      <th>13</th>\n",
       "      <td>lluvioso</td>\n",
       "      <td>templado</td>\n",
       "      <td>no</td>\n",
       "      <td>0</td>\n",
       "      <td>2</td>\n",
       "      <td>0</td>\n",
       "    </tr>\n",
       "  </tbody>\n",
       "</table>\n",
       "</div>"
      ],
      "text/plain": [
       "       clima temperatura jugar  wheather  temp  play\n",
       "0    soleado    caliente    no         3     0     0\n",
       "1    soleado    caliente    si         3     0     1\n",
       "2    nublado    caliente    si         2     0     1\n",
       "3   lluvioso    templado    si         0     2     1\n",
       "4    luvioso        frio    no         1     1     0\n",
       "5   lluvioso        frio    no         0     1     0\n",
       "6    nublado        frio    si         2     1     1\n",
       "7    soleado    templado    no         3     2     0\n",
       "8    soleado        frio    si         3     1     1\n",
       "9   lluvioso    templado    si         0     2     1\n",
       "10   soleado    templado    si         3     2     1\n",
       "11   nublado    templado    si         2     2     1\n",
       "12   nublado    caliente    si         2     0     1\n",
       "13  lluvioso    templado    no         0     2     0"
      ]
     },
     "execution_count": 3,
     "metadata": {},
     "output_type": "execute_result"
    }
   ],
   "source": [
    "# Se convierten las características (clima, temperatura, jugar) a valores discretos para generar la clasificación\n",
    "le = preprocessing.LabelEncoder()\n",
    "\n",
    "# Se crea la columna wheather con los valores discretos\n",
    "data['wheather'] = le.fit_transform(data['clima'])\n",
    "# Se crea la columna temp con los valores discretos\n",
    "data['temp'] = le.fit_transform(data['temperatura'])\n",
    "# Se crea la columna play con los valores discretos\n",
    "data['play'] = le.fit_transform(data['jugar'])\n",
    "\n",
    "# Se muestra el DataFrame\n",
    "data"
   ]
  },
  {
   "cell_type": "code",
   "execution_count": 4,
   "metadata": {},
   "outputs": [
    {
     "data": {
      "text/html": [
       "<div>\n",
       "<style scoped>\n",
       "    .dataframe tbody tr th:only-of-type {\n",
       "        vertical-align: middle;\n",
       "    }\n",
       "\n",
       "    .dataframe tbody tr th {\n",
       "        vertical-align: top;\n",
       "    }\n",
       "\n",
       "    .dataframe thead th {\n",
       "        text-align: right;\n",
       "    }\n",
       "</style>\n",
       "<table border=\"1\" class=\"dataframe\">\n",
       "  <thead>\n",
       "    <tr style=\"text-align: right;\">\n",
       "      <th></th>\n",
       "      <th>wheather</th>\n",
       "      <th>temp</th>\n",
       "      <th>play</th>\n",
       "    </tr>\n",
       "  </thead>\n",
       "  <tbody>\n",
       "    <tr>\n",
       "      <th>count</th>\n",
       "      <td>14.000000</td>\n",
       "      <td>14.000000</td>\n",
       "      <td>14.000000</td>\n",
       "    </tr>\n",
       "    <tr>\n",
       "      <th>mean</th>\n",
       "      <td>1.714286</td>\n",
       "      <td>1.142857</td>\n",
       "      <td>0.642857</td>\n",
       "    </tr>\n",
       "    <tr>\n",
       "      <th>std</th>\n",
       "      <td>1.266647</td>\n",
       "      <td>0.864438</td>\n",
       "      <td>0.497245</td>\n",
       "    </tr>\n",
       "    <tr>\n",
       "      <th>min</th>\n",
       "      <td>0.000000</td>\n",
       "      <td>0.000000</td>\n",
       "      <td>0.000000</td>\n",
       "    </tr>\n",
       "    <tr>\n",
       "      <th>25%</th>\n",
       "      <td>0.250000</td>\n",
       "      <td>0.250000</td>\n",
       "      <td>0.000000</td>\n",
       "    </tr>\n",
       "    <tr>\n",
       "      <th>50%</th>\n",
       "      <td>2.000000</td>\n",
       "      <td>1.000000</td>\n",
       "      <td>1.000000</td>\n",
       "    </tr>\n",
       "    <tr>\n",
       "      <th>75%</th>\n",
       "      <td>3.000000</td>\n",
       "      <td>2.000000</td>\n",
       "      <td>1.000000</td>\n",
       "    </tr>\n",
       "    <tr>\n",
       "      <th>max</th>\n",
       "      <td>3.000000</td>\n",
       "      <td>2.000000</td>\n",
       "      <td>1.000000</td>\n",
       "    </tr>\n",
       "  </tbody>\n",
       "</table>\n",
       "</div>"
      ],
      "text/plain": [
       "        wheather       temp       play\n",
       "count  14.000000  14.000000  14.000000\n",
       "mean    1.714286   1.142857   0.642857\n",
       "std     1.266647   0.864438   0.497245\n",
       "min     0.000000   0.000000   0.000000\n",
       "25%     0.250000   0.250000   0.000000\n",
       "50%     2.000000   1.000000   1.000000\n",
       "75%     3.000000   2.000000   1.000000\n",
       "max     3.000000   2.000000   1.000000"
      ]
     },
     "execution_count": 4,
     "metadata": {},
     "output_type": "execute_result"
    }
   ],
   "source": [
    "# Se observan las estadísticas de los datos\n",
    "data.describe()"
   ]
  },
  {
   "cell_type": "code",
   "execution_count": 11,
   "metadata": {},
   "outputs": [
    {
     "data": {
      "image/png": "[encoded data removed]",
      "text/plain": [
       "<Figure size 432x288 with 1 Axes>"
      ]
     },
     "metadata": {
      "needs_background": "light"
     },
     "output_type": "display_data"
    },
    {
     "data": {
      "image/png": "[encoded data removed]",
      "text/plain": [
       "<Figure size 432x288 with 1 Axes>"
      ]
     },
     "metadata": {
      "needs_background": "light"
     },
     "output_type": "display_data"
    }
   ],
   "source": [
    "# Se genera un histograma para ver la distribución de los datos\n",
    "# Histograma Wheather\n",
    "plt.hist(data['wheather'], color=\"orange\")\n",
    "plt.xlabel(\"Wheather\")\n",
    "plt.ylabel(\"data\")\n",
    "plt.show()\n",
    "\n",
    "# Histograma Temp\n",
    "plt.hist(data['temp'], color=\"green\")\n",
    "plt.xlabel(\"Temp\")\n",
    "plt.ylabel(\"data\")\n",
    "plt.show()"
   ]
  },
  {
   "cell_type": "markdown",
   "metadata": {},
   "source": [
    "#### Generamos el modelo de predicción usando el algoritmo Naive Bayes Classifier"
   ]
  },
  {
   "cell_type": "code",
   "execution_count": 12,
   "metadata": {},
   "outputs": [
    {
     "name": "stdout",
     "output_type": "stream",
     "text": [
      "Valor predicción =  [1]\n"
     ]
    }
   ],
   "source": [
    "# Se definen las características del modelo\n",
    "features = ['wheather','temp']\n",
    "X = data[features].values\n",
    "# Se define la etiqueta del modelo\n",
    "y = data['play'].values\n",
    "\n",
    "# Se crea el clasificador de tipo Naive Bayes\n",
    "nb = GaussianNB()\n",
    "\n",
    "# Se entrena el modelo\n",
    "nb.fit(X, y)\n",
    "\n",
    "# Se genera la predicción para nublado y templado\n",
    "prediction = nb.predict([[2, 2]])\n",
    "\n",
    "# Si la salida es 1 se puede jugar, pero si la salida es 1 no se puede juegar\n",
    "print(\"Valor predicción = \", prediction)"
   ]
  },
  {
   "cell_type": "markdown",
   "metadata": {},
   "source": [
    "#### Aplicamos la separación del data set para pruebas y entrenamiento"
   ]
  },
  {
   "cell_type": "code",
   "execution_count": 13,
   "metadata": {},
   "outputs": [],
   "source": [
    "# Se definen las características del modelo\n",
    "features = ['wheather','temp']\n",
    "X = data[features].values\n",
    "# Se define la etiqueta del modelo\n",
    "y = data['play'].values\n",
    "\n",
    "X_train, X_test, y_train, y_test = train_test_split(X, y, train_size=0.6, random_state = 1)"
   ]
  },
  {
   "cell_type": "markdown",
   "metadata": {},
   "source": [
    "#### Se entrena el modelo y se imprime el Accuracy"
   ]
  },
  {
   "cell_type": "code",
   "execution_count": 15,
   "metadata": {},
   "outputs": [
    {
     "name": "stdout",
     "output_type": "stream",
     "text": [
      "Accuracy:  0.5\n"
     ]
    }
   ],
   "source": [
    "# Se crea el clasificador de tipo Naive Bayes\n",
    "nb = GaussianNB()\n",
    "\n",
    "# Se entrena el modelo\n",
    "nb.fit(X_train, y_train)\n",
    "\n",
    "# Se genera la predicción para nublado y templado\n",
    "prediction = nb.predict(X_test)\n",
    "\n",
    "# Se genera el reporte de clasificación (Accuracy)\n",
    "print(\"Accuracy: \", accuracy_score(y_test, prediction))"
   ]
  }
 ],
 "metadata": {
  "kernelspec": {
   "display_name": "Python 3.9.13 64-bit",
   "language": "python",
   "name": "python3"
  },
  "language_info": {
   "codemirror_mode": {
    "name": "ipython",
    "version": 3
   },
   "file_extension": ".py",
   "mimetype": "text/x-python",
   "name": "python",
   "nbconvert_exporter": "python",
   "pygments_lexer": "ipython3",
   "version": "3.9.13"
  },
  "orig_nbformat": 4,
  "vscode": {
   "interpreter": {
    "hash": "aee8b7b246df8f9039afb4144a1f6fd8d2ca17a180786b69acc140d282b71a49"
   }
  }
 },
 "nbformat": 4,
 "nbformat_minor": 2
}
