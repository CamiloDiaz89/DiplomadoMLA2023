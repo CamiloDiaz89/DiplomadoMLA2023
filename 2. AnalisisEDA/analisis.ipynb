{
 "cells": [
  {
   "attachments": {},
   "cell_type": "markdown",
   "metadata": {},
   "source": [
    "### Análisis descriptivo exploratorio"
   ]
  },
  {
   "attachments": {},
   "cell_type": "markdown",
   "metadata": {},
   "source": [
    "#### **1. Importación de Librerías**"
   ]
  },
  {
   "cell_type": "code",
   "execution_count": 1,
   "metadata": {},
   "outputs": [],
   "source": [
    "##Cargar librerías de base pip install nombrelibreria - terminal\n",
    "import pandas as pd\n",
    "import numpy as np\n",
    "import matplotlib.pyplot as plt\n",
    "import seaborn as sns"
   ]
  },
  {
   "attachments": {},
   "cell_type": "markdown",
   "metadata": {},
   "source": [
    "#### **2. Funciones**"
   ]
  },
  {
   "cell_type": "code",
   "execution_count": 36,
   "metadata": {},
   "outputs": [],
   "source": [
    "### Función cargar data sea .csv o .xlsx\n",
    "def importDatos(ruta, archivo, ext):\n",
    "    if ext == '.csv':\n",
    "        data = pd.read_csv(ruta+archivo+ext)\n",
    "        return data\n",
    "    elif ext == '.xlsx':\n",
    "        data = pd.read_excel(ruta+archivo+ext)\n",
    "        return data\n",
    "    else:\n",
    "        print('Extensión Diferente')\n",
    "\n",
    "## Función para datos NAN -> Null -> 0 (IRQ) -> NAN\n",
    "def datos_NAN(df):\n",
    "    if isinstance(df, pd.DataFrame):\n",
    "        total_na = df.isna().sum().sum()\n",
    "        print(\"Dimesiones: %d filas, %d columnas\" % (df.shape[0], df.shape[1]))\n",
    "        print(\"Total de Valores NAN: %d\" % (total_na))\n",
    "        print(\"%40s %10s  %10s %10s\" % (\"Nombre Columna\", \"Tipo Dato\", \"#Unicos\", \"Cant Valores NAN\"))\n",
    "        col_name = df.columns\n",
    "        dtyp = df.dtypes\n",
    "        uniq = df.nunique()\n",
    "        na_val = df.isna().sum()\n",
    "        for i in range(len(df.columns)):\n",
    "            print(\"%40s %10s  %10s %10s\" % (col_name[i], dtyp[i], uniq[i], na_val[i]))\n",
    "    else:\n",
    "        print(\"Se esperaba un dataframe: %15s\" % (type(df)))\n",
    "\n",
    "## Numérico = Media o Mediana (NAN) - Histograma(Numerica) - Mediana - Forma de Campana(Media)\n",
    "## Categórico o Texto = Moda (Valor mas se repite) // SMOTE (Genera data sintética)\n",
    "def histoplot(df, nomCol, anchoBar):\n",
    "    sns.histplot(data=df, x=nomCol, binwidth=anchoBar, kde=True)\n",
    "\n",
    "##Función para Imputación de datos NAN con la media o mediana\n",
    "def imputacionNA(df, nomCol, param):\n",
    "    if param == 'media':\n",
    "        df[nomCol]= df[nomCol].fillna(df[nomCol].mean())\n",
    "        return df[nomCol]\n",
    "    else:\n",
    "        df[nomCol]= df[nomCol].fillna(df[nomCol].median())\n",
    "        return df[nomCol]\n",
    "\n",
    "## Función para revisar datos Categóricos\n",
    "def revCategoricos(df, nomCol):\n",
    "    rev = df[nomCol].value_counts()\n",
    "    return rev\n",
    "\n",
    "##Función de reemplazo con base en patrón\n",
    "def imputCat(df, nomCol, busqueda, reempl):\n",
    "    df[nomCol] = np.where(df[nomCol]== busqueda, reempl, df[nomCol])\n",
    "    return df[nomCol]\n",
    "\n",
    "##FUncion reemplazo de datos categóricos NAN\n",
    "def imputacionCatNA(df, nomCol):\n",
    "    df[nomCol] = df[nomCol].fillna(df[nomCol].mode()[0])\n",
    "    return df[nomCol]\n",
    "\n",
    "\n",
    "\n"
   ]
  },
  {
   "attachments": {},
   "cell_type": "markdown",
   "metadata": {},
   "source": [
    "#### **3. Llamado a Funciones**"
   ]
  },
  {
   "cell_type": "code",
   "execution_count": 10,
   "metadata": {},
   "outputs": [
    {
     "data": {
      "text/html": [
       "<div>\n",
       "<style scoped>\n",
       "    .dataframe tbody tr th:only-of-type {\n",
       "        vertical-align: middle;\n",
       "    }\n",
       "\n",
       "    .dataframe tbody tr th {\n",
       "        vertical-align: top;\n",
       "    }\n",
       "\n",
       "    .dataframe thead th {\n",
       "        text-align: right;\n",
       "    }\n",
       "</style>\n",
       "<table border=\"1\" class=\"dataframe\">\n",
       "  <thead>\n",
       "    <tr style=\"text-align: right;\">\n",
       "      <th></th>\n",
       "      <th>Age</th>\n",
       "      <th>Gender</th>\n",
       "      <th>Temperature</th>\n",
       "      <th>Headache</th>\n",
       "      <th>Fever</th>\n",
       "      <th>Hospital</th>\n",
       "      <th>CovidDiagnosis</th>\n",
       "    </tr>\n",
       "  </thead>\n",
       "  <tbody>\n",
       "    <tr>\n",
       "      <th>0</th>\n",
       "      <td>12.0</td>\n",
       "      <td>Masculino</td>\n",
       "      <td>36°</td>\n",
       "      <td>SI</td>\n",
       "      <td>1.0</td>\n",
       "      <td>Moncaleano</td>\n",
       "      <td>positive</td>\n",
       "    </tr>\n",
       "    <tr>\n",
       "      <th>1</th>\n",
       "      <td>35.0</td>\n",
       "      <td>Femenino</td>\n",
       "      <td>38</td>\n",
       "      <td>NO</td>\n",
       "      <td>0.0</td>\n",
       "      <td>Medilaser</td>\n",
       "      <td>negative</td>\n",
       "    </tr>\n",
       "    <tr>\n",
       "      <th>2</th>\n",
       "      <td>65.0</td>\n",
       "      <td>NaN</td>\n",
       "      <td>36C</td>\n",
       "      <td>YES</td>\n",
       "      <td>1.0</td>\n",
       "      <td>Carmen Emilia</td>\n",
       "      <td>negative</td>\n",
       "    </tr>\n",
       "    <tr>\n",
       "      <th>3</th>\n",
       "      <td>78.0</td>\n",
       "      <td>NaN</td>\n",
       "      <td>39</td>\n",
       "      <td>NOP</td>\n",
       "      <td>1.0</td>\n",
       "      <td>Moncaleano</td>\n",
       "      <td>negative</td>\n",
       "    </tr>\n",
       "    <tr>\n",
       "      <th>4</th>\n",
       "      <td>41.0</td>\n",
       "      <td>Masculino</td>\n",
       "      <td>40.</td>\n",
       "      <td>SI</td>\n",
       "      <td>0.0</td>\n",
       "      <td>Medilaser</td>\n",
       "      <td>positive</td>\n",
       "    </tr>\n",
       "  </tbody>\n",
       "</table>\n",
       "</div>"
      ],
      "text/plain": [
       "    Age     Gender Temperature Headache  Fever       Hospital CovidDiagnosis\n",
       "0  12.0  Masculino         36°       SI    1.0     Moncaleano       positive\n",
       "1  35.0   Femenino          38       NO    0.0      Medilaser       negative\n",
       "2  65.0        NaN         36C      YES    1.0  Carmen Emilia       negative\n",
       "3  78.0        NaN          39      NOP    1.0     Moncaleano       negative\n",
       "4  41.0  Masculino         40.       SI    0.0      Medilaser       positive"
      ]
     },
     "execution_count": 10,
     "metadata": {},
     "output_type": "execute_result"
    }
   ],
   "source": [
    "data = importDatos('./Datasets/', 'CovidDiagnosis', '.xlsx')\n",
    "\n",
    "data.head()"
   ]
  },
  {
   "cell_type": "code",
   "execution_count": 14,
   "metadata": {},
   "outputs": [
    {
     "name": "stdout",
     "output_type": "stream",
     "text": [
      "Dimesiones: 99 filas, 7 columnas\n",
      "Total de Valores NAN: 49\n",
      "                          Nombre Columna  Tipo Dato     #Unicos Cant Valores NAN\n",
      "                                     Age    float64          46          3\n",
      "                                  Gender     object           6          3\n",
      "                             Temperature     object          30          1\n",
      "                                Headache     object           6         35\n",
      "                                   Fever    float64           2          7\n",
      "                                Hospital     object           3          0\n",
      "                          CovidDiagnosis     object           2          0\n"
     ]
    }
   ],
   "source": [
    "## Revisión de datos NAN\n",
    "datos_NAN(data)"
   ]
  },
  {
   "cell_type": "code",
   "execution_count": 23,
   "metadata": {},
   "outputs": [
    {
     "name": "stdout",
     "output_type": "stream",
     "text": [
      "Dimesiones: 99 filas, 7 columnas\n",
      "Total de Valores NAN: 46\n",
      "                          Nombre Columna  Tipo Dato     #Unicos Cant Valores NAN\n",
      "                                     Age    float64          46          0\n",
      "                                  Gender     object           6          3\n",
      "                             Temperature     object          30          1\n",
      "                                Headache     object           6         35\n",
      "                                   Fever    float64           2          7\n",
      "                                Hospital     object           3          0\n",
      "                          CovidDiagnosis     object           2          0\n"
     ]
    },
    {
     "data": {
      "image/png": "[encoded data removed]",
      "text/plain": [
       "<Figure size 640x480 with 1 Axes>"
      ]
     },
     "metadata": {},
     "output_type": "display_data"
    }
   ],
   "source": [
    "histoplot(data, 'Age', 5) # Reemplazan los datos NAN con la mediana\n",
    "\n",
    "data['Age'] = imputacionNA(data, 'Age', 'mediana')\n",
    "\n",
    "datos_NAN(data)"
   ]
  },
  {
   "cell_type": "code",
   "execution_count": 24,
   "metadata": {},
   "outputs": [
    {
     "name": "stdout",
     "output_type": "stream",
     "text": [
      "Dimesiones: 99 filas, 7 columnas\n",
      "Total de Valores NAN: 39\n",
      "                          Nombre Columna  Tipo Dato     #Unicos Cant Valores NAN\n",
      "                                     Age    float64          46          0\n",
      "                                  Gender     object           6          3\n",
      "                             Temperature     object          30          1\n",
      "                                Headache     object           6         35\n",
      "                                   Fever    float64           2          0\n",
      "                                Hospital     object           3          0\n",
      "                          CovidDiagnosis     object           2          0\n"
     ]
    },
    {
     "data": {
      "image/png": "[encoded data removed]",
      "text/plain": [
       "<Figure size 640x480 with 1 Axes>"
      ]
     },
     "metadata": {},
     "output_type": "display_data"
    }
   ],
   "source": [
    "histoplot(data, 'Fever', 5)\n",
    "\n",
    "data['Fever'] = imputacionNA(data, 'Fever', 'mediana')\n",
    "\n",
    "datos_NAN(data)"
   ]
  },
  {
   "cell_type": "code",
   "execution_count": 32,
   "metadata": {},
   "outputs": [
    {
     "data": {
      "text/plain": [
       "Femenino     65\n",
       "Masculino    31\n",
       "Name: Gender, dtype: int64"
      ]
     },
     "execution_count": 32,
     "metadata": {},
     "output_type": "execute_result"
    }
   ],
   "source": [
    "## Revisión de datos categóricos\n",
    "revCategoricos(data, 'Gender')\n",
    "\n",
    "data['Gender'] = imputCat(data, 'Gender','Masculinoooo','Masculino')\n",
    "data['Gender'] = imputCat(data, 'Gender','femenino','Femenino')\n",
    "data['Gender'] = imputCat(data, 'Gender','Masculino…..//','Masculino')\n",
    "data['Gender'] = imputCat(data, 'Gender','masculino','Masculino')\n",
    "\n",
    "revCategoricos(data, 'Gender')"
   ]
  },
  {
   "cell_type": "code",
   "execution_count": 34,
   "metadata": {},
   "outputs": [
    {
     "data": {
      "text/plain": [
       "SI    36\n",
       "NO    28\n",
       "Name: Headache, dtype: int64"
      ]
     },
     "execution_count": 34,
     "metadata": {},
     "output_type": "execute_result"
    }
   ],
   "source": [
    "revCategoricos(data, 'Headache')\n",
    "\n",
    "data['Headache'] = imputCat(data, 'Headache','NOP','NO')\n",
    "data['Headache'] = imputCat(data, 'Headache','YES','SI')\n",
    "data['Headache'] = imputCat(data, 'Headache','SI ','SI')\n",
    "data['Headache'] = imputCat(data, 'Headache','OUI','SI')\n",
    "\n",
    "revCategoricos(data, 'Headache')"
   ]
  },
  {
   "cell_type": "code",
   "execution_count": 37,
   "metadata": {},
   "outputs": [
    {
     "name": "stdout",
     "output_type": "stream",
     "text": [
      "Dimesiones: 99 filas, 7 columnas\n",
      "Total de Valores NAN: 1\n",
      "                          Nombre Columna  Tipo Dato     #Unicos Cant Valores NAN\n",
      "                                     Age    float64          46          0\n",
      "                                  Gender     object           2          0\n",
      "                             Temperature     object          30          1\n",
      "                                Headache     object           2          0\n",
      "                                   Fever    float64           2          0\n",
      "                                Hospital     object           3          0\n",
      "                          CovidDiagnosis     object           2          0\n"
     ]
    }
   ],
   "source": [
    "data['Gender'] = imputacionCatNA(data, 'Gender')\n",
    "data['Headache'] = imputacionCatNA(data, 'Headache')\n",
    "\n",
    "datos_NAN(data)"
   ]
  },
  {
   "cell_type": "markdown",
   "metadata": {},
   "source": []
  }
 ],
 "metadata": {
  "kernelspec": {
   "display_name": "Python 3",
   "language": "python",
   "name": "python3"
  },
  "language_info": {
   "codemirror_mode": {
    "name": "ipython",
    "version": 3
   },
   "file_extension": ".py",
   "mimetype": "text/x-python",
   "name": "python",
   "nbconvert_exporter": "python",
   "pygments_lexer": "ipython3",
   "version": "3.10.9"
  },
  "orig_nbformat": 4
 },
 "nbformat": 4,
 "nbformat_minor": 2
}
