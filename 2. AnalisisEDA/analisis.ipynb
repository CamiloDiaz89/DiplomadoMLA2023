{
 "cells": [
  {
   "attachments": {},
   "cell_type": "markdown",
   "metadata": {},
   "source": [
    "### Análisis descriptivo exploratorio"
   ]
  },
  {
   "attachments": {},
   "cell_type": "markdown",
   "metadata": {},
   "source": [
    "#### **1. Importación de Librerías**"
   ]
  },
  {
   "cell_type": "code",
   "execution_count": 28,
   "metadata": {},
   "outputs": [],
   "source": [
    "##Cargar librerías de base pip install nombrelibreria - terminal\n",
    "import pandas as pd\n",
    "import numpy as np\n",
    "import matplotlib.pyplot as plt\n",
    "import seaborn as sns"
   ]
  },
  {
   "attachments": {},
   "cell_type": "markdown",
   "metadata": {},
   "source": [
    "#### **2. Funciones**"
   ]
  },
  {
   "cell_type": "code",
   "execution_count": 48,
   "metadata": {},
   "outputs": [],
   "source": [
    "### Función cargar data sea .csv o .xlsx\n",
    "def importDatos(ruta, archivo, ext):\n",
    "    if ext == '.csv':\n",
    "        data = pd.read_csv(ruta+archivo+ext)\n",
    "        return data\n",
    "    elif ext == '.xlsx':\n",
    "        data = pd.read_excel(ruta+archivo+ext)\n",
    "        return data\n",
    "    else:\n",
    "        print('Extensión Diferente')\n",
    "\n",
    "## Función para datos NAN -> Null -> 0 (IRQ) -> NAN\n",
    "def datos_NAN(df):\n",
    "    if isinstance(df, pd.DataFrame):\n",
    "        total_na = df.isna().sum().sum()\n",
    "        print(\"Dimesiones: %d filas, %d columnas\" % (df.shape[0], df.shape[1]))\n",
    "        print(\"Total de Valores NAN: %d\" % (total_na))\n",
    "        print(\"%40s %10s  %10s %10s\" % (\"Nombre Columna\", \"Tipo Dato\", \"#Unicos\", \"Cant Valores NAN\"))\n",
    "        col_name = df.columns\n",
    "        dtyp = df.dtypes\n",
    "        uniq = df.nunique()\n",
    "        na_val = df.isna().sum()\n",
    "        for i in range(len(df.columns)):\n",
    "            print(\"%40s %10s  %10s %10s\" % (col_name[i], dtyp[i], uniq[i], na_val[i]))\n",
    "    else:\n",
    "        print(\"Se esperaba un dataframe: %15s\" % (type(df)))\n",
    "\n",
    "## Numérico = Media o Mediana (NAN) - Histograma(Numerica) - Mediana - Forma de Campana(Media)\n",
    "## Categórico o Texto = Moda (Valor mas se repite) // SMOTE (Genera data sintética)\n",
    "def histoplot(df, nomCol, anchoBar):\n",
    "    sns.histplot(data=df, x=nomCol, binwidth=anchoBar, kde=True)\n",
    "\n",
    "##Función para Imputación de datos NAN con la media o mediana\n",
    "def imputacionNA(df, nomCol, param):\n",
    "    if param == 'media':\n",
    "        df[nomCol]= df[nomCol].fillna(df[nomCol].mean())\n",
    "        return df[nomCol]\n",
    "    else:\n",
    "        df[nomCol]= df[nomCol].fillna(df[nomCol].median())\n",
    "        return df[nomCol]\n",
    "\n",
    "## Función para revisar datos Categóricos\n",
    "def revCategoricos(df, nomCol):\n",
    "    rev = df[nomCol].value_counts()\n",
    "    return rev\n",
    "\n",
    "##Función de reemplazo con base en patrón\n",
    "def imputCat(df, nomCol, busqueda, reempl):\n",
    "    df[nomCol] = np.where(df[nomCol]== busqueda, reempl, df[nomCol])\n",
    "    return df[nomCol]\n",
    "\n",
    "##FUncion reemplazo de datos categóricos NAN\n",
    "def imputacionCatNA(df, nomCol):\n",
    "    df[nomCol] = df[nomCol].fillna(df[nomCol].mode()[0])\n",
    "    return df[nomCol]\n",
    "\n",
    "##Función para cambiar de texto a numero variable\n",
    "def cambioTextNum(df, nomCol, tipo):\n",
    "    df[nomCol] = df[nomCol].astype(tipo)\n",
    "    return df[nomCol]\n",
    "\n",
    "##Funcion para binarizar variables categóricas 2 opciones\n",
    "def cambTextBi(df, nomCol, busqueda, camuno, camdos):\n",
    "    df[nomCol] = np.where(df[nomCol]==busqueda, camuno, camdos)\n",
    "    return df[nomCol]\n",
    "\n",
    "##Función para One Hot Encoder o Variables dummies\n",
    "def convDummies(df, nomCol):\n",
    "    dummies = pd.get_dummies(df[nomCol])\n",
    "    data = pd.concat([df, dummies], axis=1)\n",
    "    data.drop(columns=[nomCol], inplace=True)\n",
    "    return data\n",
    "\n",
    "##Función cambiar encabezados\n",
    "def cambEncab(df, ListaN):\n",
    "    df.columns = ListaN\n",
    "    return df\n",
    "\n",
    "##Funcion de extracción\n",
    "def export(df, nombre, sepa, indice):\n",
    "    data = df.to_csv(nombre, sep=sepa, index= indice)\n",
    "    return data"
   ]
  },
  {
   "attachments": {},
   "cell_type": "markdown",
   "metadata": {},
   "source": [
    "#### **3. Llamado a Funciones**"
   ]
  },
  {
   "cell_type": "code",
   "execution_count": 30,
   "metadata": {},
   "outputs": [
    {
     "data": {
      "text/html": [
       "<div>\n",
       "<style scoped>\n",
       "    .dataframe tbody tr th:only-of-type {\n",
       "        vertical-align: middle;\n",
       "    }\n",
       "\n",
       "    .dataframe tbody tr th {\n",
       "        vertical-align: top;\n",
       "    }\n",
       "\n",
       "    .dataframe thead th {\n",
       "        text-align: right;\n",
       "    }\n",
       "</style>\n",
       "<table border=\"1\" class=\"dataframe\">\n",
       "  <thead>\n",
       "    <tr style=\"text-align: right;\">\n",
       "      <th></th>\n",
       "      <th>Age</th>\n",
       "      <th>Gender</th>\n",
       "      <th>Temperature</th>\n",
       "      <th>Headache</th>\n",
       "      <th>Fever</th>\n",
       "      <th>Hospital</th>\n",
       "      <th>CovidDiagnosis</th>\n",
       "    </tr>\n",
       "  </thead>\n",
       "  <tbody>\n",
       "    <tr>\n",
       "      <th>0</th>\n",
       "      <td>12.0</td>\n",
       "      <td>Masculino</td>\n",
       "      <td>36°</td>\n",
       "      <td>SI</td>\n",
       "      <td>1.0</td>\n",
       "      <td>Moncaleano</td>\n",
       "      <td>positive</td>\n",
       "    </tr>\n",
       "    <tr>\n",
       "      <th>1</th>\n",
       "      <td>35.0</td>\n",
       "      <td>Femenino</td>\n",
       "      <td>38</td>\n",
       "      <td>NO</td>\n",
       "      <td>0.0</td>\n",
       "      <td>Medilaser</td>\n",
       "      <td>negative</td>\n",
       "    </tr>\n",
       "    <tr>\n",
       "      <th>2</th>\n",
       "      <td>65.0</td>\n",
       "      <td>NaN</td>\n",
       "      <td>36C</td>\n",
       "      <td>YES</td>\n",
       "      <td>1.0</td>\n",
       "      <td>Carmen Emilia</td>\n",
       "      <td>negative</td>\n",
       "    </tr>\n",
       "    <tr>\n",
       "      <th>3</th>\n",
       "      <td>78.0</td>\n",
       "      <td>NaN</td>\n",
       "      <td>39</td>\n",
       "      <td>NOP</td>\n",
       "      <td>1.0</td>\n",
       "      <td>Moncaleano</td>\n",
       "      <td>negative</td>\n",
       "    </tr>\n",
       "    <tr>\n",
       "      <th>4</th>\n",
       "      <td>41.0</td>\n",
       "      <td>Masculino</td>\n",
       "      <td>40.</td>\n",
       "      <td>SI</td>\n",
       "      <td>0.0</td>\n",
       "      <td>Medilaser</td>\n",
       "      <td>positive</td>\n",
       "    </tr>\n",
       "  </tbody>\n",
       "</table>\n",
       "</div>"
      ],
      "text/plain": [
       "    Age     Gender Temperature Headache  Fever       Hospital CovidDiagnosis\n",
       "0  12.0  Masculino         36°       SI    1.0     Moncaleano       positive\n",
       "1  35.0   Femenino          38       NO    0.0      Medilaser       negative\n",
       "2  65.0        NaN         36C      YES    1.0  Carmen Emilia       negative\n",
       "3  78.0        NaN          39      NOP    1.0     Moncaleano       negative\n",
       "4  41.0  Masculino         40.       SI    0.0      Medilaser       positive"
      ]
     },
     "execution_count": 30,
     "metadata": {},
     "output_type": "execute_result"
    }
   ],
   "source": [
    "data = importDatos('./Datasets/', 'CovidDiagnosis', '.xlsx')\n",
    "\n",
    "data.head()"
   ]
  },
  {
   "cell_type": "code",
   "execution_count": 31,
   "metadata": {},
   "outputs": [
    {
     "name": "stdout",
     "output_type": "stream",
     "text": [
      "Dimesiones: 99 filas, 7 columnas\n",
      "Total de Valores NAN: 49\n",
      "                          Nombre Columna  Tipo Dato     #Unicos Cant Valores NAN\n",
      "                                     Age    float64          46          3\n",
      "                                  Gender     object           6          3\n",
      "                             Temperature     object          30          1\n",
      "                                Headache     object           6         35\n",
      "                                   Fever    float64           2          7\n",
      "                                Hospital     object           3          0\n",
      "                          CovidDiagnosis     object           2          0\n"
     ]
    }
   ],
   "source": [
    "## Revisión de datos NAN\n",
    "datos_NAN(data)"
   ]
  },
  {
   "cell_type": "code",
   "execution_count": 32,
   "metadata": {},
   "outputs": [
    {
     "name": "stdout",
     "output_type": "stream",
     "text": [
      "Dimesiones: 99 filas, 7 columnas\n",
      "Total de Valores NAN: 46\n",
      "                          Nombre Columna  Tipo Dato     #Unicos Cant Valores NAN\n",
      "                                     Age    float64          46          0\n",
      "                                  Gender     object           6          3\n",
      "                             Temperature     object          30          1\n",
      "                                Headache     object           6         35\n",
      "                                   Fever    float64           2          7\n",
      "                                Hospital     object           3          0\n",
      "                          CovidDiagnosis     object           2          0\n"
     ]
    },
    {
     "data": {
      "image/png": "[encoded data removed]",
      "text/plain": [
       "<Figure size 640x480 with 1 Axes>"
      ]
     },
     "metadata": {},
     "output_type": "display_data"
    }
   ],
   "source": [
    "histoplot(data, 'Age', 5) # Reemplazan los datos NAN con la mediana\n",
    "\n",
    "data['Age'] = imputacionNA(data, 'Age', 'mediana')\n",
    "\n",
    "datos_NAN(data)"
   ]
  },
  {
   "cell_type": "code",
   "execution_count": 33,
   "metadata": {},
   "outputs": [
    {
     "name": "stdout",
     "output_type": "stream",
     "text": [
      "Dimesiones: 99 filas, 7 columnas\n",
      "Total de Valores NAN: 39\n",
      "                          Nombre Columna  Tipo Dato     #Unicos Cant Valores NAN\n",
      "                                     Age    float64          46          0\n",
      "                                  Gender     object           6          3\n",
      "                             Temperature     object          30          1\n",
      "                                Headache     object           6         35\n",
      "                                   Fever    float64           2          0\n",
      "                                Hospital     object           3          0\n",
      "                          CovidDiagnosis     object           2          0\n"
     ]
    },
    {
     "data": {
      "image/png": "[encoded data removed]",
      "text/plain": [
       "<Figure size 640x480 with 1 Axes>"
      ]
     },
     "metadata": {},
     "output_type": "display_data"
    }
   ],
   "source": [
    "histoplot(data, 'Fever', 5)\n",
    "\n",
    "data['Fever'] = imputacionNA(data, 'Fever', 'mediana')\n",
    "\n",
    "datos_NAN(data)"
   ]
  },
  {
   "cell_type": "code",
   "execution_count": 34,
   "metadata": {},
   "outputs": [
    {
     "data": {
      "text/plain": [
       "Femenino     65\n",
       "Masculino    31\n",
       "Name: Gender, dtype: int64"
      ]
     },
     "execution_count": 34,
     "metadata": {},
     "output_type": "execute_result"
    }
   ],
   "source": [
    "## Revisión de datos categóricos\n",
    "revCategoricos(data, 'Gender')\n",
    "\n",
    "data['Gender'] = imputCat(data, 'Gender','Masculinoooo','Masculino')\n",
    "data['Gender'] = imputCat(data, 'Gender','femenino','Femenino')\n",
    "data['Gender'] = imputCat(data, 'Gender','Masculino…..//','Masculino')\n",
    "data['Gender'] = imputCat(data, 'Gender','masculino','Masculino')\n",
    "\n",
    "revCategoricos(data, 'Gender')"
   ]
  },
  {
   "cell_type": "code",
   "execution_count": 35,
   "metadata": {},
   "outputs": [
    {
     "data": {
      "text/plain": [
       "SI    36\n",
       "NO    28\n",
       "Name: Headache, dtype: int64"
      ]
     },
     "execution_count": 35,
     "metadata": {},
     "output_type": "execute_result"
    }
   ],
   "source": [
    "revCategoricos(data, 'Headache')\n",
    "\n",
    "data['Headache'] = imputCat(data, 'Headache','NOP','NO')\n",
    "data['Headache'] = imputCat(data, 'Headache','YES','SI')\n",
    "data['Headache'] = imputCat(data, 'Headache','SI ','SI')\n",
    "data['Headache'] = imputCat(data, 'Headache','OUI','SI')\n",
    "\n",
    "revCategoricos(data, 'Headache')"
   ]
  },
  {
   "cell_type": "code",
   "execution_count": 36,
   "metadata": {},
   "outputs": [
    {
     "name": "stdout",
     "output_type": "stream",
     "text": [
      "Dimesiones: 99 filas, 7 columnas\n",
      "Total de Valores NAN: 1\n",
      "                          Nombre Columna  Tipo Dato     #Unicos Cant Valores NAN\n",
      "                                     Age    float64          46          0\n",
      "                                  Gender     object           2          0\n",
      "                             Temperature     object          30          1\n",
      "                                Headache     object           2          0\n",
      "                                   Fever    float64           2          0\n",
      "                                Hospital     object           3          0\n",
      "                          CovidDiagnosis     object           2          0\n"
     ]
    }
   ],
   "source": [
    "data['Gender'] = imputacionCatNA(data, 'Gender')\n",
    "data['Headache'] = imputacionCatNA(data, 'Headache')\n",
    "\n",
    "datos_NAN(data)"
   ]
  },
  {
   "cell_type": "code",
   "execution_count": 37,
   "metadata": {},
   "outputs": [],
   "source": [
    "## Revision de temperatura\n",
    "data['Temperature'] = imputCat(data, 'Temperature','36C','36')\n",
    "data['Temperature'] = imputCat(data, 'Temperature','36°','36')\n",
    "\n",
    "### No hagan conversiones de datos con Inconsistencias o datos NAN - Borrar Datos NAN\n",
    "datos = data"
   ]
  },
  {
   "cell_type": "code",
   "execution_count": 38,
   "metadata": {},
   "outputs": [
    {
     "name": "stdout",
     "output_type": "stream",
     "text": [
      "Dimesiones: 99 filas, 7 columnas\n",
      "Total de Valores NAN: 1\n",
      "                          Nombre Columna  Tipo Dato     #Unicos Cant Valores NAN\n",
      "                                     Age    float64          46          0\n",
      "                                  Gender     object           2          0\n",
      "                             Temperature    float64          27          1\n",
      "                                Headache     object           2          0\n",
      "                                   Fever    float64           2          0\n",
      "                                Hospital     object           3          0\n",
      "                          CovidDiagnosis     object           2          0\n"
     ]
    }
   ],
   "source": [
    "##Modificación de Temperatura a float64\n",
    "datos['Temperature'] = cambioTextNum(datos, 'Temperature','float64')\n",
    "\n",
    "datos_NAN(datos)"
   ]
  },
  {
   "cell_type": "code",
   "execution_count": 39,
   "metadata": {},
   "outputs": [
    {
     "data": {
      "text/plain": [
       "count    98.000000\n",
       "mean     34.839796\n",
       "std       5.745468\n",
       "min      23.410000\n",
       "25%      30.670000\n",
       "50%      36.350000\n",
       "75%      39.000000\n",
       "max      45.000000\n",
       "Name: Temperature, dtype: float64"
      ]
     },
     "execution_count": 39,
     "metadata": {},
     "output_type": "execute_result"
    }
   ],
   "source": [
    "datos['Temperature'].describe().T"
   ]
  },
  {
   "cell_type": "code",
   "execution_count": 40,
   "metadata": {},
   "outputs": [
    {
     "name": "stdout",
     "output_type": "stream",
     "text": [
      "Dimesiones: 99 filas, 7 columnas\n",
      "Total de Valores NAN: 0\n",
      "                          Nombre Columna  Tipo Dato     #Unicos Cant Valores NAN\n",
      "                                     Age    float64          46          0\n",
      "                                  Gender     object           2          0\n",
      "                             Temperature    float64          28          0\n",
      "                                Headache     object           2          0\n",
      "                                   Fever    float64           2          0\n",
      "                                Hospital     object           3          0\n",
      "                          CovidDiagnosis     object           2          0\n"
     ]
    },
    {
     "data": {
      "image/png": "[encoded data removed]",
      "text/plain": [
       "<Figure size 640x480 with 1 Axes>"
      ]
     },
     "metadata": {},
     "output_type": "display_data"
    }
   ],
   "source": [
    "##Reemplazo del dato NAN en temperatura\n",
    "histoplot(datos, 'Temperature', 4)\n",
    "\n",
    "datos['Temperature'] = imputacionNA(datos, 'Temperature','mediana')\n",
    "\n",
    "datos_NAN(datos)"
   ]
  },
  {
   "cell_type": "code",
   "execution_count": 41,
   "metadata": {},
   "outputs": [
    {
     "name": "stdout",
     "output_type": "stream",
     "text": [
      "Dimesiones: 99 filas, 7 columnas\n",
      "Total de Valores NAN: 0\n",
      "                          Nombre Columna  Tipo Dato     #Unicos Cant Valores NAN\n",
      "                                     Age    float64          46          0\n",
      "                                  Gender      int32           2          0\n",
      "                             Temperature    float64          28          0\n",
      "                                Headache      int32           2          0\n",
      "                                   Fever    float64           2          0\n",
      "                                Hospital     object           3          0\n",
      "                          CovidDiagnosis      int32           2          0\n"
     ]
    },
    {
     "data": {
      "text/html": [
       "<div>\n",
       "<style scoped>\n",
       "    .dataframe tbody tr th:only-of-type {\n",
       "        vertical-align: middle;\n",
       "    }\n",
       "\n",
       "    .dataframe tbody tr th {\n",
       "        vertical-align: top;\n",
       "    }\n",
       "\n",
       "    .dataframe thead th {\n",
       "        text-align: right;\n",
       "    }\n",
       "</style>\n",
       "<table border=\"1\" class=\"dataframe\">\n",
       "  <thead>\n",
       "    <tr style=\"text-align: right;\">\n",
       "      <th></th>\n",
       "      <th>Age</th>\n",
       "      <th>Gender</th>\n",
       "      <th>Temperature</th>\n",
       "      <th>Headache</th>\n",
       "      <th>Fever</th>\n",
       "      <th>Hospital</th>\n",
       "      <th>CovidDiagnosis</th>\n",
       "    </tr>\n",
       "  </thead>\n",
       "  <tbody>\n",
       "    <tr>\n",
       "      <th>0</th>\n",
       "      <td>12.0</td>\n",
       "      <td>1</td>\n",
       "      <td>36.0</td>\n",
       "      <td>1</td>\n",
       "      <td>1.0</td>\n",
       "      <td>Moncaleano</td>\n",
       "      <td>1</td>\n",
       "    </tr>\n",
       "    <tr>\n",
       "      <th>1</th>\n",
       "      <td>35.0</td>\n",
       "      <td>0</td>\n",
       "      <td>38.0</td>\n",
       "      <td>0</td>\n",
       "      <td>0.0</td>\n",
       "      <td>Medilaser</td>\n",
       "      <td>0</td>\n",
       "    </tr>\n",
       "    <tr>\n",
       "      <th>2</th>\n",
       "      <td>65.0</td>\n",
       "      <td>0</td>\n",
       "      <td>36.0</td>\n",
       "      <td>1</td>\n",
       "      <td>1.0</td>\n",
       "      <td>Carmen Emilia</td>\n",
       "      <td>0</td>\n",
       "    </tr>\n",
       "    <tr>\n",
       "      <th>3</th>\n",
       "      <td>78.0</td>\n",
       "      <td>0</td>\n",
       "      <td>39.0</td>\n",
       "      <td>0</td>\n",
       "      <td>1.0</td>\n",
       "      <td>Moncaleano</td>\n",
       "      <td>0</td>\n",
       "    </tr>\n",
       "    <tr>\n",
       "      <th>4</th>\n",
       "      <td>41.0</td>\n",
       "      <td>1</td>\n",
       "      <td>40.0</td>\n",
       "      <td>1</td>\n",
       "      <td>0.0</td>\n",
       "      <td>Medilaser</td>\n",
       "      <td>1</td>\n",
       "    </tr>\n",
       "  </tbody>\n",
       "</table>\n",
       "</div>"
      ],
      "text/plain": [
       "    Age  Gender  Temperature  Headache  Fever       Hospital  CovidDiagnosis\n",
       "0  12.0       1         36.0         1    1.0     Moncaleano               1\n",
       "1  35.0       0         38.0         0    0.0      Medilaser               0\n",
       "2  65.0       0         36.0         1    1.0  Carmen Emilia               0\n",
       "3  78.0       0         39.0         0    1.0     Moncaleano               0\n",
       "4  41.0       1         40.0         1    0.0      Medilaser               1"
      ]
     },
     "execution_count": 41,
     "metadata": {},
     "output_type": "execute_result"
    }
   ],
   "source": [
    "##Cambiar de 1 a 0 covidDiagnosis, Headache, Gender\n",
    "datos['Gender'] = cambTextBi(datos, 'Gender','Femenino', 0, 1)\n",
    "datos['Headache'] = cambTextBi(datos, 'Headache','NO', 0, 1)\n",
    "datos['CovidDiagnosis'] = cambTextBi(datos, 'CovidDiagnosis','negative', 0, 1)\n",
    "\n",
    "datos_NAN(datos)\n",
    "\n",
    "datos.head()"
   ]
  },
  {
   "cell_type": "code",
   "execution_count": 42,
   "metadata": {},
   "outputs": [
    {
     "data": {
      "text/plain": [
       "Moncaleano       33\n",
       "Medilaser        33\n",
       "Carmen Emilia    33\n",
       "Name: Hospital, dtype: int64"
      ]
     },
     "execution_count": 42,
     "metadata": {},
     "output_type": "execute_result"
    }
   ],
   "source": [
    "revCategoricos(datos, 'Hospital')"
   ]
  },
  {
   "cell_type": "code",
   "execution_count": 43,
   "metadata": {},
   "outputs": [],
   "source": [
    "##Label encoder\n",
    "#from sklearn import preprocessing\n",
    "\n",
    "#label_e = preprocessing.LabelEncoder()\n",
    "\n",
    "#datos['Hospital'] = label_e.fit_transform(datos['Hospital'])\n",
    "\n",
    "#revCategoricos(datos, 'Hospital')"
   ]
  },
  {
   "cell_type": "code",
   "execution_count": 44,
   "metadata": {},
   "outputs": [
    {
     "data": {
      "text/html": [
       "<div>\n",
       "<style scoped>\n",
       "    .dataframe tbody tr th:only-of-type {\n",
       "        vertical-align: middle;\n",
       "    }\n",
       "\n",
       "    .dataframe tbody tr th {\n",
       "        vertical-align: top;\n",
       "    }\n",
       "\n",
       "    .dataframe thead th {\n",
       "        text-align: right;\n",
       "    }\n",
       "</style>\n",
       "<table border=\"1\" class=\"dataframe\">\n",
       "  <thead>\n",
       "    <tr style=\"text-align: right;\">\n",
       "      <th></th>\n",
       "      <th>Age</th>\n",
       "      <th>Gender</th>\n",
       "      <th>Temperature</th>\n",
       "      <th>Headache</th>\n",
       "      <th>Fever</th>\n",
       "      <th>CovidDiagnosis</th>\n",
       "      <th>Carmen Emilia</th>\n",
       "      <th>Medilaser</th>\n",
       "      <th>Moncaleano</th>\n",
       "    </tr>\n",
       "  </thead>\n",
       "  <tbody>\n",
       "    <tr>\n",
       "      <th>0</th>\n",
       "      <td>12.0</td>\n",
       "      <td>1</td>\n",
       "      <td>36.0</td>\n",
       "      <td>1</td>\n",
       "      <td>1.0</td>\n",
       "      <td>1</td>\n",
       "      <td>0</td>\n",
       "      <td>0</td>\n",
       "      <td>1</td>\n",
       "    </tr>\n",
       "    <tr>\n",
       "      <th>1</th>\n",
       "      <td>35.0</td>\n",
       "      <td>0</td>\n",
       "      <td>38.0</td>\n",
       "      <td>0</td>\n",
       "      <td>0.0</td>\n",
       "      <td>0</td>\n",
       "      <td>0</td>\n",
       "      <td>1</td>\n",
       "      <td>0</td>\n",
       "    </tr>\n",
       "    <tr>\n",
       "      <th>2</th>\n",
       "      <td>65.0</td>\n",
       "      <td>0</td>\n",
       "      <td>36.0</td>\n",
       "      <td>1</td>\n",
       "      <td>1.0</td>\n",
       "      <td>0</td>\n",
       "      <td>1</td>\n",
       "      <td>0</td>\n",
       "      <td>0</td>\n",
       "    </tr>\n",
       "    <tr>\n",
       "      <th>3</th>\n",
       "      <td>78.0</td>\n",
       "      <td>0</td>\n",
       "      <td>39.0</td>\n",
       "      <td>0</td>\n",
       "      <td>1.0</td>\n",
       "      <td>0</td>\n",
       "      <td>0</td>\n",
       "      <td>0</td>\n",
       "      <td>1</td>\n",
       "    </tr>\n",
       "    <tr>\n",
       "      <th>4</th>\n",
       "      <td>41.0</td>\n",
       "      <td>1</td>\n",
       "      <td>40.0</td>\n",
       "      <td>1</td>\n",
       "      <td>0.0</td>\n",
       "      <td>1</td>\n",
       "      <td>0</td>\n",
       "      <td>1</td>\n",
       "      <td>0</td>\n",
       "    </tr>\n",
       "  </tbody>\n",
       "</table>\n",
       "</div>"
      ],
      "text/plain": [
       "    Age  Gender  Temperature  Headache  Fever  CovidDiagnosis  Carmen Emilia  \\\n",
       "0  12.0       1         36.0         1    1.0               1              0   \n",
       "1  35.0       0         38.0         0    0.0               0              0   \n",
       "2  65.0       0         36.0         1    1.0               0              1   \n",
       "3  78.0       0         39.0         0    1.0               0              0   \n",
       "4  41.0       1         40.0         1    0.0               1              0   \n",
       "\n",
       "   Medilaser  Moncaleano  \n",
       "0          0           1  \n",
       "1          1           0  \n",
       "2          0           0  \n",
       "3          0           1  \n",
       "4          1           0  "
      ]
     },
     "execution_count": 44,
     "metadata": {},
     "output_type": "execute_result"
    }
   ],
   "source": [
    "dataF = convDummies(datos, 'Hospital')\n",
    "\n",
    "dataF.head()\n"
   ]
  },
  {
   "cell_type": "code",
   "execution_count": 46,
   "metadata": {},
   "outputs": [
    {
     "data": {
      "text/html": [
       "<div>\n",
       "<style scoped>\n",
       "    .dataframe tbody tr th:only-of-type {\n",
       "        vertical-align: middle;\n",
       "    }\n",
       "\n",
       "    .dataframe tbody tr th {\n",
       "        vertical-align: top;\n",
       "    }\n",
       "\n",
       "    .dataframe thead th {\n",
       "        text-align: right;\n",
       "    }\n",
       "</style>\n",
       "<table border=\"1\" class=\"dataframe\">\n",
       "  <thead>\n",
       "    <tr style=\"text-align: right;\">\n",
       "      <th></th>\n",
       "      <th>Edad</th>\n",
       "      <th>Genero</th>\n",
       "      <th>Temp</th>\n",
       "      <th>DolorCa</th>\n",
       "      <th>Fiebre</th>\n",
       "      <th>CovidD</th>\n",
       "      <th>CarmenE</th>\n",
       "      <th>MediL</th>\n",
       "      <th>MoncaL</th>\n",
       "    </tr>\n",
       "  </thead>\n",
       "  <tbody>\n",
       "    <tr>\n",
       "      <th>0</th>\n",
       "      <td>12.0</td>\n",
       "      <td>1</td>\n",
       "      <td>36.0</td>\n",
       "      <td>1</td>\n",
       "      <td>1.0</td>\n",
       "      <td>1</td>\n",
       "      <td>0</td>\n",
       "      <td>0</td>\n",
       "      <td>1</td>\n",
       "    </tr>\n",
       "    <tr>\n",
       "      <th>1</th>\n",
       "      <td>35.0</td>\n",
       "      <td>0</td>\n",
       "      <td>38.0</td>\n",
       "      <td>0</td>\n",
       "      <td>0.0</td>\n",
       "      <td>0</td>\n",
       "      <td>0</td>\n",
       "      <td>1</td>\n",
       "      <td>0</td>\n",
       "    </tr>\n",
       "    <tr>\n",
       "      <th>2</th>\n",
       "      <td>65.0</td>\n",
       "      <td>0</td>\n",
       "      <td>36.0</td>\n",
       "      <td>1</td>\n",
       "      <td>1.0</td>\n",
       "      <td>0</td>\n",
       "      <td>1</td>\n",
       "      <td>0</td>\n",
       "      <td>0</td>\n",
       "    </tr>\n",
       "    <tr>\n",
       "      <th>3</th>\n",
       "      <td>78.0</td>\n",
       "      <td>0</td>\n",
       "      <td>39.0</td>\n",
       "      <td>0</td>\n",
       "      <td>1.0</td>\n",
       "      <td>0</td>\n",
       "      <td>0</td>\n",
       "      <td>0</td>\n",
       "      <td>1</td>\n",
       "    </tr>\n",
       "    <tr>\n",
       "      <th>4</th>\n",
       "      <td>41.0</td>\n",
       "      <td>1</td>\n",
       "      <td>40.0</td>\n",
       "      <td>1</td>\n",
       "      <td>0.0</td>\n",
       "      <td>1</td>\n",
       "      <td>0</td>\n",
       "      <td>1</td>\n",
       "      <td>0</td>\n",
       "    </tr>\n",
       "  </tbody>\n",
       "</table>\n",
       "</div>"
      ],
      "text/plain": [
       "   Edad  Genero  Temp  DolorCa  Fiebre  CovidD  CarmenE  MediL  MoncaL\n",
       "0  12.0       1  36.0        1     1.0       1        0      0       1\n",
       "1  35.0       0  38.0        0     0.0       0        0      1       0\n",
       "2  65.0       0  36.0        1     1.0       0        1      0       0\n",
       "3  78.0       0  39.0        0     1.0       0        0      0       1\n",
       "4  41.0       1  40.0        1     0.0       1        0      1       0"
      ]
     },
     "execution_count": 46,
     "metadata": {},
     "output_type": "execute_result"
    }
   ],
   "source": [
    "##Cambiar encabezados\n",
    "\n",
    "dataF =cambEncab(dataF, ['Edad','Genero','Temp','DolorCa','Fiebre','CovidD','CarmenE','MediL','MoncaL'])\n",
    "\n",
    "dataF.head()"
   ]
  },
  {
   "cell_type": "code",
   "execution_count": 47,
   "metadata": {},
   "outputs": [
    {
     "data": {
      "text/html": [
       "<div>\n",
       "<style scoped>\n",
       "    .dataframe tbody tr th:only-of-type {\n",
       "        vertical-align: middle;\n",
       "    }\n",
       "\n",
       "    .dataframe tbody tr th {\n",
       "        vertical-align: top;\n",
       "    }\n",
       "\n",
       "    .dataframe thead th {\n",
       "        text-align: right;\n",
       "    }\n",
       "</style>\n",
       "<table border=\"1\" class=\"dataframe\">\n",
       "  <thead>\n",
       "    <tr style=\"text-align: right;\">\n",
       "      <th></th>\n",
       "      <th>count</th>\n",
       "      <th>mean</th>\n",
       "      <th>std</th>\n",
       "      <th>min</th>\n",
       "      <th>25%</th>\n",
       "      <th>50%</th>\n",
       "      <th>75%</th>\n",
       "      <th>max</th>\n",
       "    </tr>\n",
       "  </thead>\n",
       "  <tbody>\n",
       "    <tr>\n",
       "      <th>Edad</th>\n",
       "      <td>99.0</td>\n",
       "      <td>21.555556</td>\n",
       "      <td>15.882362</td>\n",
       "      <td>2.00</td>\n",
       "      <td>10.00</td>\n",
       "      <td>18.00</td>\n",
       "      <td>30.5</td>\n",
       "      <td>98.0</td>\n",
       "    </tr>\n",
       "    <tr>\n",
       "      <th>Genero</th>\n",
       "      <td>99.0</td>\n",
       "      <td>0.313131</td>\n",
       "      <td>0.466127</td>\n",
       "      <td>0.00</td>\n",
       "      <td>0.00</td>\n",
       "      <td>0.00</td>\n",
       "      <td>1.0</td>\n",
       "      <td>1.0</td>\n",
       "    </tr>\n",
       "    <tr>\n",
       "      <th>Temp</th>\n",
       "      <td>99.0</td>\n",
       "      <td>34.855051</td>\n",
       "      <td>5.718094</td>\n",
       "      <td>23.41</td>\n",
       "      <td>30.67</td>\n",
       "      <td>36.35</td>\n",
       "      <td>39.0</td>\n",
       "      <td>45.0</td>\n",
       "    </tr>\n",
       "    <tr>\n",
       "      <th>DolorCa</th>\n",
       "      <td>99.0</td>\n",
       "      <td>0.717172</td>\n",
       "      <td>0.452666</td>\n",
       "      <td>0.00</td>\n",
       "      <td>0.00</td>\n",
       "      <td>1.00</td>\n",
       "      <td>1.0</td>\n",
       "      <td>1.0</td>\n",
       "    </tr>\n",
       "    <tr>\n",
       "      <th>Fiebre</th>\n",
       "      <td>99.0</td>\n",
       "      <td>0.565657</td>\n",
       "      <td>0.498193</td>\n",
       "      <td>0.00</td>\n",
       "      <td>0.00</td>\n",
       "      <td>1.00</td>\n",
       "      <td>1.0</td>\n",
       "      <td>1.0</td>\n",
       "    </tr>\n",
       "    <tr>\n",
       "      <th>CovidD</th>\n",
       "      <td>99.0</td>\n",
       "      <td>0.393939</td>\n",
       "      <td>0.491108</td>\n",
       "      <td>0.00</td>\n",
       "      <td>0.00</td>\n",
       "      <td>0.00</td>\n",
       "      <td>1.0</td>\n",
       "      <td>1.0</td>\n",
       "    </tr>\n",
       "    <tr>\n",
       "      <th>CarmenE</th>\n",
       "      <td>99.0</td>\n",
       "      <td>0.333333</td>\n",
       "      <td>0.473804</td>\n",
       "      <td>0.00</td>\n",
       "      <td>0.00</td>\n",
       "      <td>0.00</td>\n",
       "      <td>1.0</td>\n",
       "      <td>1.0</td>\n",
       "    </tr>\n",
       "    <tr>\n",
       "      <th>MediL</th>\n",
       "      <td>99.0</td>\n",
       "      <td>0.333333</td>\n",
       "      <td>0.473804</td>\n",
       "      <td>0.00</td>\n",
       "      <td>0.00</td>\n",
       "      <td>0.00</td>\n",
       "      <td>1.0</td>\n",
       "      <td>1.0</td>\n",
       "    </tr>\n",
       "    <tr>\n",
       "      <th>MoncaL</th>\n",
       "      <td>99.0</td>\n",
       "      <td>0.333333</td>\n",
       "      <td>0.473804</td>\n",
       "      <td>0.00</td>\n",
       "      <td>0.00</td>\n",
       "      <td>0.00</td>\n",
       "      <td>1.0</td>\n",
       "      <td>1.0</td>\n",
       "    </tr>\n",
       "  </tbody>\n",
       "</table>\n",
       "</div>"
      ],
      "text/plain": [
       "         count       mean        std    min    25%    50%   75%   max\n",
       "Edad      99.0  21.555556  15.882362   2.00  10.00  18.00  30.5  98.0\n",
       "Genero    99.0   0.313131   0.466127   0.00   0.00   0.00   1.0   1.0\n",
       "Temp      99.0  34.855051   5.718094  23.41  30.67  36.35  39.0  45.0\n",
       "DolorCa   99.0   0.717172   0.452666   0.00   0.00   1.00   1.0   1.0\n",
       "Fiebre    99.0   0.565657   0.498193   0.00   0.00   1.00   1.0   1.0\n",
       "CovidD    99.0   0.393939   0.491108   0.00   0.00   0.00   1.0   1.0\n",
       "CarmenE   99.0   0.333333   0.473804   0.00   0.00   0.00   1.0   1.0\n",
       "MediL     99.0   0.333333   0.473804   0.00   0.00   0.00   1.0   1.0\n",
       "MoncaL    99.0   0.333333   0.473804   0.00   0.00   0.00   1.0   1.0"
      ]
     },
     "execution_count": 47,
     "metadata": {},
     "output_type": "execute_result"
    }
   ],
   "source": [
    "dataF.describe().T"
   ]
  },
  {
   "cell_type": "code",
   "execution_count": 49,
   "metadata": {},
   "outputs": [],
   "source": [
    "##Exportar la data .csv\n",
    "export(dataF, 'dataLimpia.csv',',', False)"
   ]
  }
 ],
 "metadata": {
  "kernelspec": {
   "display_name": "Python 3",
   "language": "python",
   "name": "python3"
  },
  "language_info": {
   "codemirror_mode": {
    "name": "ipython",
    "version": 3
   },
   "file_extension": ".py",
   "mimetype": "text/x-python",
   "name": "python",
   "nbconvert_exporter": "python",
   "pygments_lexer": "ipython3",
   "version": "3.10.9"
  },
  "orig_nbformat": 4
 },
 "nbformat": 4,
 "nbformat_minor": 2
}
