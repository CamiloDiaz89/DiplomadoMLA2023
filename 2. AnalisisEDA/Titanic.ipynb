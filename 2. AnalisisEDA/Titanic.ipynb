{
 "cells": [
  {
   "attachments": {},
   "cell_type": "markdown",
   "metadata": {},
   "source": [
    "### Análisis Exploratorio Titanic"
   ]
  },
  {
   "attachments": {},
   "cell_type": "markdown",
   "metadata": {},
   "source": [
    "#### 1. Cargar Librerías"
   ]
  },
  {
   "cell_type": "code",
   "execution_count": 1,
   "metadata": {},
   "outputs": [],
   "source": [
    "##Importar librerias\n",
    "import numpy as np\n",
    "import pandas as pd\n",
    "import matplotlib.pyplot as plt\n",
    "import seaborn as sns\n",
    "\n",
    "import warnings\n",
    "warnings.filterwarnings('ignore')"
   ]
  },
  {
   "attachments": {},
   "cell_type": "markdown",
   "metadata": {},
   "source": [
    "#### Funciones "
   ]
  },
  {
   "cell_type": "code",
   "execution_count": 8,
   "metadata": {},
   "outputs": [],
   "source": [
    "### Función cargar data sea .csv o .xlsx\n",
    "def importDatos(ruta, archivo, ext):\n",
    "    if ext == '.csv':\n",
    "        data = pd.read_csv(ruta+archivo+ext)\n",
    "        return data\n",
    "    elif ext == '.xlsx':\n",
    "        data = pd.read_excel(ruta+archivo+ext)\n",
    "        return data\n",
    "    else:\n",
    "        print('Extensión Diferente')\n",
    "\n",
    "## Función para datos NAN -> Null -> 0 (IRQ) -> NAN\n",
    "def datos_NAN(df):\n",
    "    if isinstance(df, pd.DataFrame):\n",
    "        total_na = df.isna().sum().sum()\n",
    "        print(\"Dimesiones: %d filas, %d columnas\" % (df.shape[0], df.shape[1]))\n",
    "        print(\"Total de Valores NAN: %d\" % (total_na))\n",
    "        print(\"%40s %10s  %10s %10s\" % (\"Nombre Columna\", \"Tipo Dato\", \"#Unicos\", \"Cant Valores NAN\"))\n",
    "        col_name = df.columns\n",
    "        dtyp = df.dtypes\n",
    "        uniq = df.nunique()\n",
    "        na_val = df.isna().sum()\n",
    "        for i in range(len(df.columns)):\n",
    "            print(\"%40s %10s  %10s %10s\" % (col_name[i], dtyp[i], uniq[i], na_val[i]))\n",
    "    else:\n",
    "        print(\"Se esperaba un dataframe: %15s\" % (type(df)))\n",
    "\n",
    "##Función para identificación de variables categóricas\n",
    "def idenCat(df):\n",
    "    categoricas = [i for i in df.columns if df[i].dtype=='O']\n",
    "    print('Hay {} Variables Categoricas \\n'. format(len(categoricas)))\n",
    "    print('Las Variables Categoricas son: \\n', categoricas)"
   ]
  },
  {
   "attachments": {},
   "cell_type": "markdown",
   "metadata": {},
   "source": [
    "#### Análisis Inicial"
   ]
  },
  {
   "cell_type": "code",
   "execution_count": 3,
   "metadata": {},
   "outputs": [
    {
     "data": {
      "text/html": [
       "<div>\n",
       "<style scoped>\n",
       "    .dataframe tbody tr th:only-of-type {\n",
       "        vertical-align: middle;\n",
       "    }\n",
       "\n",
       "    .dataframe tbody tr th {\n",
       "        vertical-align: top;\n",
       "    }\n",
       "\n",
       "    .dataframe thead th {\n",
       "        text-align: right;\n",
       "    }\n",
       "</style>\n",
       "<table border=\"1\" class=\"dataframe\">\n",
       "  <thead>\n",
       "    <tr style=\"text-align: right;\">\n",
       "      <th></th>\n",
       "      <th>PassengerId</th>\n",
       "      <th>Survived</th>\n",
       "      <th>Pclass</th>\n",
       "      <th>Name</th>\n",
       "      <th>Sex</th>\n",
       "      <th>Age</th>\n",
       "      <th>SibSp</th>\n",
       "      <th>Parch</th>\n",
       "      <th>Ticket</th>\n",
       "      <th>Fare</th>\n",
       "      <th>Cabin</th>\n",
       "      <th>Embarked</th>\n",
       "    </tr>\n",
       "  </thead>\n",
       "  <tbody>\n",
       "    <tr>\n",
       "      <th>0</th>\n",
       "      <td>1</td>\n",
       "      <td>0</td>\n",
       "      <td>3</td>\n",
       "      <td>Braund, Mr. Owen Harris</td>\n",
       "      <td>male</td>\n",
       "      <td>22.0</td>\n",
       "      <td>1</td>\n",
       "      <td>0</td>\n",
       "      <td>A/5 21171</td>\n",
       "      <td>7.2500</td>\n",
       "      <td>NaN</td>\n",
       "      <td>S</td>\n",
       "    </tr>\n",
       "    <tr>\n",
       "      <th>1</th>\n",
       "      <td>2</td>\n",
       "      <td>1</td>\n",
       "      <td>1</td>\n",
       "      <td>Cumings, Mrs. John Bradley (Florence Briggs Th...</td>\n",
       "      <td>female</td>\n",
       "      <td>38.0</td>\n",
       "      <td>1</td>\n",
       "      <td>0</td>\n",
       "      <td>PC 17599</td>\n",
       "      <td>71.2833</td>\n",
       "      <td>C85</td>\n",
       "      <td>C</td>\n",
       "    </tr>\n",
       "    <tr>\n",
       "      <th>2</th>\n",
       "      <td>3</td>\n",
       "      <td>1</td>\n",
       "      <td>3</td>\n",
       "      <td>Heikkinen, Miss. Laina</td>\n",
       "      <td>female</td>\n",
       "      <td>26.0</td>\n",
       "      <td>0</td>\n",
       "      <td>0</td>\n",
       "      <td>STON/O2. 3101282</td>\n",
       "      <td>7.9250</td>\n",
       "      <td>NaN</td>\n",
       "      <td>S</td>\n",
       "    </tr>\n",
       "    <tr>\n",
       "      <th>3</th>\n",
       "      <td>4</td>\n",
       "      <td>1</td>\n",
       "      <td>1</td>\n",
       "      <td>Futrelle, Mrs. Jacques Heath (Lily May Peel)</td>\n",
       "      <td>female</td>\n",
       "      <td>35.0</td>\n",
       "      <td>1</td>\n",
       "      <td>0</td>\n",
       "      <td>113803</td>\n",
       "      <td>53.1000</td>\n",
       "      <td>C123</td>\n",
       "      <td>S</td>\n",
       "    </tr>\n",
       "    <tr>\n",
       "      <th>4</th>\n",
       "      <td>5</td>\n",
       "      <td>0</td>\n",
       "      <td>3</td>\n",
       "      <td>Allen, Mr. William Henry</td>\n",
       "      <td>male</td>\n",
       "      <td>35.0</td>\n",
       "      <td>0</td>\n",
       "      <td>0</td>\n",
       "      <td>373450</td>\n",
       "      <td>8.0500</td>\n",
       "      <td>NaN</td>\n",
       "      <td>S</td>\n",
       "    </tr>\n",
       "  </tbody>\n",
       "</table>\n",
       "</div>"
      ],
      "text/plain": [
       "   PassengerId  Survived  Pclass  \\\n",
       "0            1         0       3   \n",
       "1            2         1       1   \n",
       "2            3         1       3   \n",
       "3            4         1       1   \n",
       "4            5         0       3   \n",
       "\n",
       "                                                Name     Sex   Age  SibSp  \\\n",
       "0                            Braund, Mr. Owen Harris    male  22.0      1   \n",
       "1  Cumings, Mrs. John Bradley (Florence Briggs Th...  female  38.0      1   \n",
       "2                             Heikkinen, Miss. Laina  female  26.0      0   \n",
       "3       Futrelle, Mrs. Jacques Heath (Lily May Peel)  female  35.0      1   \n",
       "4                           Allen, Mr. William Henry    male  35.0      0   \n",
       "\n",
       "   Parch            Ticket     Fare Cabin Embarked  \n",
       "0      0         A/5 21171   7.2500   NaN        S  \n",
       "1      0          PC 17599  71.2833   C85        C  \n",
       "2      0  STON/O2. 3101282   7.9250   NaN        S  \n",
       "3      0            113803  53.1000  C123        S  \n",
       "4      0            373450   8.0500   NaN        S  "
      ]
     },
     "execution_count": 3,
     "metadata": {},
     "output_type": "execute_result"
    }
   ],
   "source": [
    "data = importDatos('./Datasets/','Titanic','.csv')\n",
    "\n",
    "data.head()"
   ]
  },
  {
   "cell_type": "code",
   "execution_count": 4,
   "metadata": {},
   "outputs": [
    {
     "name": "stdout",
     "output_type": "stream",
     "text": [
      "Dimesiones: 891 filas, 12 columnas\n",
      "Total de Valores NAN: 866\n",
      "                          Nombre Columna  Tipo Dato     #Unicos Cant Valores NAN\n",
      "                             PassengerId      int64         891          0\n",
      "                                Survived      int64           2          0\n",
      "                                  Pclass      int64           3          0\n",
      "                                    Name     object         891          0\n",
      "                                     Sex     object           2          0\n",
      "                                     Age    float64          88        177\n",
      "                                   SibSp      int64           7          0\n",
      "                                   Parch      int64           7          0\n",
      "                                  Ticket     object         681          0\n",
      "                                    Fare    float64         248          0\n",
      "                                   Cabin     object         147        687\n",
      "                                Embarked     object           3          2\n"
     ]
    }
   ],
   "source": [
    "datos_NAN(data)"
   ]
  },
  {
   "cell_type": "code",
   "execution_count": 7,
   "metadata": {},
   "outputs": [
    {
     "name": "stdout",
     "output_type": "stream",
     "text": [
      "Hay 5 Variables Categoricas \n",
      "\n",
      "Las Variables Categoricas son: \n",
      " ['Name', 'Sex', 'Ticket', 'Cabin', 'Embarked']\n"
     ]
    }
   ],
   "source": [
    "### Función para determinar datos categóricos\n",
    "categoricas = [i for i in data.columns if data[i].dtype=='O']\n",
    "\n",
    "print('Hay {} Variables Categoricas \\n'. format(len(categoricas)))\n",
    "\n",
    "print('Las Variables Categoricas son: \\n', categoricas)"
   ]
  },
  {
   "cell_type": "code",
   "execution_count": 9,
   "metadata": {},
   "outputs": [
    {
     "name": "stdout",
     "output_type": "stream",
     "text": [
      "Hay 5 Variables Categoricas \n",
      "\n",
      "Las Variables Categoricas son: \n",
      " ['Name', 'Sex', 'Ticket', 'Cabin', 'Embarked']\n"
     ]
    }
   ],
   "source": [
    "idenCat(data)"
   ]
  },
  {
   "cell_type": "code",
   "execution_count": 10,
   "metadata": {},
   "outputs": [
    {
     "name": "stdout",
     "output_type": "stream",
     "text": [
      "Hay 7 Variables numericas \n",
      "\n",
      "Las Variables numericas son: \n",
      " ['PassengerId', 'Survived', 'Pclass', 'Age', 'SibSp', 'Parch', 'Fare']\n"
     ]
    }
   ],
   "source": [
    "numericas = [i for i in data.columns if data[i].dtype!='O']\n",
    "\n",
    "print('Hay {} Variables numericas \\n'. format(len(numericas)))\n",
    "\n",
    "print('Las Variables numericas son: \\n', numericas)"
   ]
  },
  {
   "cell_type": "code",
   "execution_count": 15,
   "metadata": {},
   "outputs": [
    {
     "name": "stdout",
     "output_type": "stream",
     "text": [
      "Braund, Mr. Owen Harris                     0.1\n",
      "Boulos, Mr. Hanna                           0.1\n",
      "Frolicher-Stehli, Mr. Maxmillian            0.1\n",
      "Gilinski, Mr. Eliezer                       0.1\n",
      "Murdlin, Mr. Joseph                         0.1\n",
      "                                           ... \n",
      "Kelly, Miss. Anna Katherine \"Annie Kate\"    0.1\n",
      "McCoy, Mr. Bernard                          0.1\n",
      "Johnson, Mr. William Cahoone Jr             0.1\n",
      "Keane, Miss. Nora A                         0.1\n",
      "Dooley, Mr. Patrick                         0.1\n",
      "Name: Name, Length: 891, dtype: float64\n",
      "male      64.8\n",
      "female    35.2\n",
      "Name: Sex, dtype: float64\n",
      "347082      0.8\n",
      "CA. 2343    0.8\n",
      "1601        0.8\n",
      "3101295     0.7\n",
      "CA 2144     0.7\n",
      "           ... \n",
      "9234        0.1\n",
      "19988       0.1\n",
      "2693        0.1\n",
      "PC 17612    0.1\n",
      "370376      0.1\n",
      "Name: Ticket, Length: 681, dtype: float64\n",
      "B96 B98        0.4\n",
      "G6             0.4\n",
      "C23 C25 C27    0.4\n",
      "C22 C26        0.3\n",
      "F33            0.3\n",
      "              ... \n",
      "E34            0.1\n",
      "C7             0.1\n",
      "C54            0.1\n",
      "E36            0.1\n",
      "C148           0.1\n",
      "Name: Cabin, Length: 147, dtype: float64\n",
      "S    72.3\n",
      "C    18.9\n",
      "Q     8.6\n",
      "Name: Embarked, dtype: float64\n"
     ]
    }
   ],
   "source": [
    "##Distribución de frecuencias\n",
    "for i in categoricas:\n",
    "    print(round(data[i].value_counts()/np.float64(len(data)),3)*100)"
   ]
  },
  {
   "cell_type": "code",
   "execution_count": 16,
   "metadata": {},
   "outputs": [
    {
     "name": "stdout",
     "output_type": "stream",
     "text": [
      "1      0.1\n",
      "599    0.1\n",
      "588    0.1\n",
      "589    0.1\n",
      "590    0.1\n",
      "      ... \n",
      "301    0.1\n",
      "302    0.1\n",
      "303    0.1\n",
      "304    0.1\n",
      "891    0.1\n",
      "Name: PassengerId, Length: 891, dtype: float64\n",
      "0    61.6\n",
      "1    38.4\n",
      "Name: Survived, dtype: float64\n",
      "3    55.1\n",
      "1    24.2\n",
      "2    20.7\n",
      "Name: Pclass, dtype: float64\n",
      "24.00    3.4\n",
      "22.00    3.0\n",
      "18.00    2.9\n",
      "19.00    2.8\n",
      "28.00    2.8\n",
      "        ... \n",
      "36.50    0.1\n",
      "55.50    0.1\n",
      "0.92     0.1\n",
      "23.50    0.1\n",
      "74.00    0.1\n",
      "Name: Age, Length: 88, dtype: float64\n",
      "0    68.2\n",
      "1    23.5\n",
      "2     3.1\n",
      "4     2.0\n",
      "3     1.8\n",
      "8     0.8\n",
      "5     0.6\n",
      "Name: SibSp, dtype: float64\n",
      "0    76.1\n",
      "1    13.2\n",
      "2     9.0\n",
      "5     0.6\n",
      "3     0.6\n",
      "4     0.4\n",
      "6     0.1\n",
      "Name: Parch, dtype: float64\n",
      "8.0500     4.8\n",
      "13.0000    4.7\n",
      "7.8958     4.3\n",
      "7.7500     3.8\n",
      "26.0000    3.5\n",
      "          ... \n",
      "35.0000    0.1\n",
      "28.5000    0.1\n",
      "6.2375     0.1\n",
      "14.0000    0.1\n",
      "10.5167    0.1\n",
      "Name: Fare, Length: 248, dtype: float64\n"
     ]
    }
   ],
   "source": [
    "for i in numericas:\n",
    "    print(round(data[i].value_counts()/np.float64(len(data)),3)*100)"
   ]
  },
  {
   "attachments": {},
   "cell_type": "markdown",
   "metadata": {},
   "source": [
    "#### Limpieza"
   ]
  },
  {
   "cell_type": "code",
   "execution_count": 18,
   "metadata": {},
   "outputs": [
    {
     "data": {
      "text/plain": [
       "0        Mr\n",
       "1       Mrs\n",
       "2      Miss\n",
       "3       Mrs\n",
       "4        Mr\n",
       "       ... \n",
       "886     Rev\n",
       "887    Miss\n",
       "888    Miss\n",
       "889      Mr\n",
       "890      Mr\n",
       "Name: Inicial, Length: 891, dtype: object"
      ]
     },
     "execution_count": 18,
     "metadata": {},
     "output_type": "execute_result"
    }
   ],
   "source": [
    "data['Name']\n",
    "\n",
    "data['Inicial']=0\n",
    "\n",
    "for i in data:\n",
    "    data['Inicial'] = data.Name.str.extract('([A-Za-z]+)\\.')\n",
    "\n",
    "data.Inicial"
   ]
  }
 ],
 "metadata": {
  "kernelspec": {
   "display_name": "Python 3",
   "language": "python",
   "name": "python3"
  },
  "language_info": {
   "codemirror_mode": {
    "name": "ipython",
    "version": 3
   },
   "file_extension": ".py",
   "mimetype": "text/x-python",
   "name": "python",
   "nbconvert_exporter": "python",
   "pygments_lexer": "ipython3",
   "version": "3.10.9"
  },
  "orig_nbformat": 4
 },
 "nbformat": 4,
 "nbformat_minor": 2
}
